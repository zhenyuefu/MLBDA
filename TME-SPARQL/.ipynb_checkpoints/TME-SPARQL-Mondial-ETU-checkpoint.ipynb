{
 "cells": [
  {
   "cell_type": "markdown",
   "metadata": {},
   "source": [
    "# Requêtes MONDIAL\n",
    "Cet exercice utilise la base mondial fournie sous forme de triplets RDF et disponible depuis un endpoint distant. Il vous est demandé de vous familiariser d'abord avec la représentation RDF de cette base puis de répondre "
   ]
  },
  {
   "cell_type": "code",
   "execution_count": 1,
   "metadata": {},
   "outputs": [
    {
     "data": {
      "text/html": [
       "<div class=\"krn-spql\"><div class=\"magic\">Endpoint set to: http://www.semwebtech.org/mondial/10/sparql</div><div class=\"magic\">Label preferred languages: ['en']</div><div class=\"magic\">Logging set to DEBUG</div></div>"
      ],
      "text/plain": [
       "Endpoint set to: http://www.semwebtech.org/mondial/10/sparql\n",
       "Label preferred languages: ['en']\n",
       "Logging set to DEBUG\n"
      ]
     },
     "metadata": {},
     "output_type": "display_data"
    }
   ],
   "source": [
    "%endpoint http://www.semwebtech.org/mondial/10/sparql\n",
    "%lang en\n",
    "%log debug"
   ]
  },
  {
   "cell_type": "markdown",
   "metadata": {},
   "source": [
    "## Exploration du graphe "
   ]
  },
  {
   "cell_type": "markdown",
   "metadata": {},
   "source": [
    "### URI avec leur types"
   ]
  },
  {
   "cell_type": "code",
   "execution_count": null,
   "metadata": {},
   "outputs": [],
   "source": [
    "%format any\n",
    "%display table withtypes\n",
    "\n",
    "PREFIX prefix: <http://prefix.cc/>\n",
    "PREFIX co: <http://purl.org/ontology/co/core#>\n",
    "PREFIX coun: <http://www.daml.org/2001/09/countries/iso-3166-ont#>\n",
    "prefix rdfs: <http://www.w3.org/2000/01/rdf-schema#>\n",
    "prefix owl: <http://www.w3.org/2002/07/owl#>\n",
    "prefix mon: <http://www.semwebtech.org/mondial/10/meta#>\n",
    "prefix mondial: <http://www.semwebtech.org/mondial/10/>\n",
    "SELECT DISTINCT ?t\n",
    "WHERE {\n",
    "    ?a a ?t\n",
    "} "
   ]
  },
  {
   "cell_type": "markdown",
   "metadata": {},
   "source": [
    "### Les propriétes liées à des sujets de type Country"
   ]
  },
  {
   "cell_type": "code",
   "execution_count": null,
   "metadata": {},
   "outputs": [],
   "source": [
    "%format any\n",
    "%display table \n",
    "%show 100\n",
    "\n",
    "\n",
    "PREFIX prefix: <http://prefix.cc/>\n",
    "PREFIX co: <http://purl.org/ontology/co/core#>\n",
    "PREFIX coun: <http://www.daml.org/2001/09/countries/iso-3166-ont#>\n",
    "prefix rdfs: <http://www.w3.org/2000/01/rdf-schema#>\n",
    "prefix owl: <http://www.w3.org/2002/07/owl#>\n",
    "prefix : <http://www.semwebtech.org/mondial/10/meta#>\n",
    "prefix mondial: <http://www.semwebtech.org/mondial/10/>\n",
    "SELECT DISTINCT ?p\n",
    "WHERE {\n",
    "    ?a a :Country ;\n",
    "         ?p ?x \n",
    "} LIMIT 200"
   ]
  },
  {
   "cell_type": "markdown",
   "metadata": {},
   "source": [
    "### Les propriétes liées à des sujets de type River"
   ]
  },
  {
   "cell_type": "code",
   "execution_count": null,
   "metadata": {
    "scrolled": true
   },
   "outputs": [],
   "source": [
    "%format any\n",
    "%display table \n",
    "%show 100\n",
    "\n",
    "\n",
    "PREFIX prefix: <http://prefix.cc/>\n",
    "PREFIX co: <http://purl.org/ontology/co/core#>\n",
    "PREFIX coun: <http://www.daml.org/2001/09/countries/iso-3166-ont#>\n",
    "prefix rdfs: <http://www.w3.org/2000/01/rdf-schema#>\n",
    "prefix owl: <http://www.w3.org/2002/07/owl#>\n",
    "prefix : <http://www.semwebtech.org/mondial/10/meta#>\n",
    "prefix mondial: <http://www.semwebtech.org/mondial/10/>\n",
    "SELECT DISTINCT ?p\n",
    "WHERE {\n",
    "    ?a a :River ;\n",
    "         ?p ?x \n",
    "} LIMIT 200"
   ]
  },
  {
   "cell_type": "code",
   "execution_count": null,
   "metadata": {},
   "outputs": [],
   "source": []
  },
  {
   "cell_type": "markdown",
   "metadata": {},
   "source": [
    "## Questions\n",
    "Exprimer les requetes qui retournent les informations suivantes :"
   ]
  },
  {
   "cell_type": "markdown",
   "metadata": {},
   "source": [
    "### 1-a les affluents (:River) directs et indirects de la mer du nord"
   ]
  },
  {
   "cell_type": "code",
   "execution_count": null,
   "metadata": {
    "scrolled": false
   },
   "outputs": [],
   "source": [
    "%show 20\n",
    " %format ANY\n",
    " \n",
    "PREFIX prefix: <http://prefix.cc/>\n",
    "PREFIX co: <http://purl.org/ontology/co/core#>\n",
    "PREFIX coun: <http://www.daml.org/2001/09/countries/iso-3166-ont#>\n",
    "prefix rdfs: <http://www.w3.org/2000/01/rdf-schema#>\n",
    "prefix owl: <http://www.w3.org/2002/07/owl#>\n",
    "prefix : <http://www.semwebtech.org/mondial/10/meta#>\n",
    "prefix mondial: <http://www.semwebtech.org/mondial/10/>\n",
    "base <http://www.semwebtech.org/mondial/10/>\n",
    "SELECT  \n",
    "WHERE {   }\n"
   ]
  },
  {
   "cell_type": "markdown",
   "metadata": {},
   "source": [
    "### 1-b- le nombre d'affluents (:River) directs et indirects de la mer du nord"
   ]
  },
  {
   "cell_type": "code",
   "execution_count": null,
   "metadata": {},
   "outputs": [],
   "source": [
    "%show 20\n",
    "# %format n3\n",
    "%format ANY\n",
    "#%lang en\n",
    "#%display table\n",
    "#%display diagram svg\n",
    "PREFIX prefix: <http://prefix.cc/>\n",
    "PREFIX co: <http://purl.org/ontology/co/core#>\n",
    "PREFIX coun: <http://www.daml.org/2001/09/countries/iso-3166-ont#>\n",
    "prefix rdfs: <http://www.w3.org/2000/01/rdf-schema#>\n",
    "prefix owl: <http://www.w3.org/2002/07/owl#>\n",
    "prefix : <http://www.semwebtech.org/mondial/10/meta#>\n",
    "prefix mondial: <http://www.semwebtech.org/mondial/10/>\n",
    "base <http://www.semwebtech.org/mondial/10/>\n",
    "\n",
    "SELECT \n",
    "WHERE {   }"
   ]
  },
  {
   "cell_type": "markdown",
   "metadata": {},
   "source": [
    "### 2-a Le affluents (:River) directs ou indirects de la mer du nord qui  passent  par le Rhin"
   ]
  },
  {
   "cell_type": "code",
   "execution_count": null,
   "metadata": {},
   "outputs": [],
   "source": [
    "%show 20\n",
    " %format ANY\n",
    " \n",
    "PREFIX prefix: <http://prefix.cc/>\n",
    "PREFIX co: <http://purl.org/ontology/co/core#>\n",
    "PREFIX coun: <http://www.daml.org/2001/09/countries/iso-3166-ont#>\n",
    "prefix rdfs: <http://www.w3.org/2000/01/rdf-schema#>\n",
    "prefix owl: <http://www.w3.org/2002/07/owl#>\n",
    "prefix : <http://www.semwebtech.org/mondial/10/meta#>\n",
    "prefix mondial: <http://www.semwebtech.org/mondial/10/>\n",
    "base <http://www.semwebtech.org/mondial/10/>\n",
    "\n",
    "SELECT \n",
    "WHERE {  \n",
    "       }"
   ]
  },
  {
   "cell_type": "markdown",
   "metadata": {},
   "source": [
    "### 2-b Le affluents (:River) directs et indirects de la mer du nord qui ne passent pas par le Rhin\n"
   ]
  },
  {
   "cell_type": "code",
   "execution_count": null,
   "metadata": {
    "scrolled": true
   },
   "outputs": [],
   "source": [
    "%show 20\n",
    " %format ANY\n",
    " \n",
    "PREFIX prefix: <http://prefix.cc/>\n",
    "PREFIX co: <http://purl.org/ontology/co/core#>\n",
    "PREFIX coun: <http://www.daml.org/2001/09/countries/iso-3166-ont#>\n",
    "prefix rdfs: <http://www.w3.org/2000/01/rdf-schema#>\n",
    "prefix owl: <http://www.w3.org/2002/07/owl#>\n",
    "prefix : <http://www.semwebtech.org/mondial/10/meta#>\n",
    "prefix mondial: <http://www.semwebtech.org/mondial/10/>\n",
    "base <http://www.semwebtech.org/mondial/10/>\n",
    "\n",
    "SELECT  \n",
    "WHERE {  \n",
    "       }\n"
   ]
  },
  {
   "cell_type": "markdown",
   "metadata": {},
   "source": [
    "### 3- Les rivières avec au moins vingt affluents."
   ]
  },
  {
   "cell_type": "code",
   "execution_count": null,
   "metadata": {
    "scrolled": false
   },
   "outputs": [],
   "source": [
    "%show 20\n",
    " %format ANY\n",
    " \n",
    "PREFIX prefix: <http://prefix.cc/>\n",
    "PREFIX co: <http://purl.org/ontology/co/core#>\n",
    "PREFIX coun: <http://www.daml.org/2001/09/countries/iso-3166-ont#>\n",
    "prefix rdfs: <http://www.w3.org/2000/01/rdf-schema#>\n",
    "prefix owl: <http://www.w3.org/2002/07/owl#>\n",
    "prefix : <http://www.semwebtech.org/mondial/10/meta#>\n",
    "prefix mondial: <http://www.semwebtech.org/mondial/10/>\n",
    "base <http://www.semwebtech.org/mondial/10/>\n",
    "\n",
    "SELECT  \n",
    "WHERE {   }\n",
    "GROUP BY  \n",
    "HAVING ( )\n"
   ]
  },
  {
   "cell_type": "markdown",
   "metadata": {},
   "source": [
    "### 4- Les lacs traversés par le Rhone"
   ]
  },
  {
   "cell_type": "code",
   "execution_count": null,
   "metadata": {
    "scrolled": false
   },
   "outputs": [],
   "source": [
    "%show 20\n",
    " %format ANY\n",
    " \n",
    "PREFIX prefix: <http://prefix.cc/>\n",
    "PREFIX co: <http://purl.org/ontology/co/core#>\n",
    "PREFIX coun: <http://www.daml.org/2001/09/countries/iso-3166-ont#>\n",
    "prefix rdfs: <http://www.w3.org/2000/01/rdf-schema#>\n",
    "prefix owl: <http://www.w3.org/2002/07/owl#>\n",
    "prefix : <http://www.semwebtech.org/mondial/10/meta#>\n",
    "prefix mondial: <http://www.semwebtech.org/mondial/10/>\n",
    "prefix rivers: <http://www.semwebtech.org/mondial/10/rivers/> \n",
    "base <http://www.semwebtech.org/mondial/10/>\n",
    "\n",
    "SELECT  \n",
    "WHERE {   }\n"
   ]
  },
  {
   "cell_type": "markdown",
   "metadata": {},
   "source": [
    "### 5- Les pays avec plus que 10000000 habitants traversés par le Danube"
   ]
  },
  {
   "cell_type": "code",
   "execution_count": null,
   "metadata": {
    "scrolled": false
   },
   "outputs": [],
   "source": [
    "%show 20\n",
    " %format ANY\n",
    " \n",
    "PREFIX prefix: <http://prefix.cc/>\n",
    "PREFIX co: <http://purl.org/ontology/co/core#>\n",
    "PREFIX coun: <http://www.daml.org/2001/09/countries/iso-3166-ont#>\n",
    "prefix rdfs: <http://www.w3.org/2000/01/rdf-schema#>\n",
    "prefix owl: <http://www.w3.org/2002/07/owl#>\n",
    "prefix : <http://www.semwebtech.org/mondial/10/meta#>\n",
    "prefix mondial: <http://www.semwebtech.org/mondial/10/>\n",
    "prefix rivers: <http://www.semwebtech.org/mondial/10/rivers/> \n",
    "base <http://www.semwebtech.org/mondial/10/>\n",
    "\n",
    "SELECT  \n",
    "WHERE {  \n",
    "            }\n"
   ]
  },
  {
   "cell_type": "markdown",
   "metadata": {},
   "source": [
    "### 6- Les Pays qui appartiennent à toutes les organisations auxquelles appartient aussi le Liechtenstein"
   ]
  },
  {
   "cell_type": "code",
   "execution_count": null,
   "metadata": {
    "scrolled": false
   },
   "outputs": [],
   "source": [
    "%show 200\n",
    " %format ANY\n",
    " \n",
    "PREFIX prefix: <http://prefix.cc/>\n",
    "PREFIX co: <http://purl.org/ontology/co/core#>\n",
    "PREFIX coun: <http://www.daml.org/2001/09/countries/iso-3166-ont#>\n",
    "prefix rdfs: <http://www.w3.org/2000/01/rdf-schema#>\n",
    "prefix owl: <http://www.w3.org/2002/07/owl#>\n",
    "prefix : <http://www.semwebtech.org/mondial/10/meta#>\n",
    "prefix mondial: <http://www.semwebtech.org/mondial/10/>\n",
    "prefix rivers: <http://www.semwebtech.org/mondial/10/rivers/> \n",
    "base <http://www.semwebtech.org/mondial/10/>\n",
    "\n",
    "SELECT  \n",
    "WHERE {  \n",
    "       }\n",
    "}\n"
   ]
  }
 ],
 "metadata": {
  "kernelspec": {
   "display_name": "SPARQL",
   "language": "sparql",
   "name": "sparql"
  },
  "language_info": {
   "codemirror_mode": {
    "name": "sparql"
   },
   "mimetype": "application/sparql-query",
   "name": "sparql",
   "pygments_lexer": "sparql-nb"
  }
 },
 "nbformat": 4,
 "nbformat_minor": 4
}
