{
 "cells": [
  {
   "cell_type": "markdown",
   "metadata": {},
   "source": [
    "# Requêtes MONDIAL\n",
    "Cet exercice utilise la base mondial fournie sous forme de triplets RDF et disponible depuis un endpoint distant. Il vous est demandé de vous familiariser d'abord avec la représentation RDF de cette base puis de répondre "
   ]
  },
  {
   "cell_type": "code",
   "execution_count": 1,
   "metadata": {},
   "outputs": [
    {
     "data": {
      "text/html": "<div class=\"krn-spql\"><div class=\"magic\">Endpoint set to: http://www.semwebtech.org/mondial/10/sparql</div><div class=\"magic\">Label preferred languages: ['en']</div><div class=\"magic\">Logging set to DEBUG</div></div>",
      "text/plain": "Endpoint set to: http://www.semwebtech.org/mondial/10/sparql\nLabel preferred languages: ['en']\nLogging set to DEBUG\n"
     },
     "metadata": {},
     "output_type": "display_data"
    }
   ],
   "source": [
    "%endpoint http://www.semwebtech.org/mondial/10/sparql\n",
    "%lang en\n",
    "%log debug"
   ]
  },
  {
   "cell_type": "markdown",
   "metadata": {},
   "source": [
    "## Exploration du graphe "
   ]
  },
  {
   "cell_type": "markdown",
   "metadata": {},
   "source": [
    "### URI avec leur types"
   ]
  },
  {
   "cell_type": "code",
   "execution_count": 39,
   "metadata": {},
   "outputs": [
    {
     "data": {
      "text/html": [
       "<div class=\"krn-spql\"><div class=\"magic\">Request format: ANY</div><div class=\"magic\">Display: table<br/>Show Types: on</div></div>"
      ],
      "text/plain": [
       "Request format: ANY\n",
       "Display: table\n",
       "Show Types: on\n"
      ]
     },
     "metadata": {},
     "output_type": "display_data"
    },
    {
     "data": {
      "text/html": [
       "<div class=\"krn-spql\"><table><tr class=hdr><th>t</th><th>type</th></tr><tr class=odd><td class=val><a href=\"http://www.semwebtech.org/mondial/10/meta#PopulationCount\" target=\"_other\">http://www.semwebtech.org/mondial/10/meta#PopulationCount</a></td><td class=typ>uri</td></tr><tr class=even><td class=val><a href=\"http://www.semwebtech.org/mondial/10/meta#Mountain\" target=\"_other\">http://www.semwebtech.org/mondial/10/meta#Mountain</a></td><td class=typ>uri</td></tr><tr class=odd><td class=val><a href=\"http://www.semwebtech.org/mondial/10/meta#City\" target=\"_other\">http://www.semwebtech.org/mondial/10/meta#City</a></td><td class=typ>uri</td></tr><tr class=even><td class=val><a href=\"http://www.semwebtech.org/mondial/10/meta#Membership\" target=\"_other\">http://www.semwebtech.org/mondial/10/meta#Membership</a></td><td class=typ>uri</td></tr><tr class=odd><td class=val><a href=\"http://www.semwebtech.org/mondial/10/meta#Desert\" target=\"_other\">http://www.semwebtech.org/mondial/10/meta#Desert</a></td><td class=typ>uri</td></tr><tr class=even><td class=val><a href=\"http://www.semwebtech.org/mondial/10/meta#SpokenBy\" target=\"_other\">http://www.semwebtech.org/mondial/10/meta#SpokenBy</a></td><td class=typ>uri</td></tr><tr class=odd><td class=val><a href=\"http://www.semwebtech.org/mondial/10/meta#BelievedBy\" target=\"_other\">http://www.semwebtech.org/mondial/10/meta#BelievedBy</a></td><td class=typ>uri</td></tr><tr class=even><td class=val><a href=\"http://www.semwebtech.org/mondial/10/meta#Border\" target=\"_other\">http://www.semwebtech.org/mondial/10/meta#Border</a></td><td class=typ>uri</td></tr><tr class=odd><td class=val><a href=\"http://www.semwebtech.org/mondial/10/meta#EthnicProportion\" target=\"_other\">http://www.semwebtech.org/mondial/10/meta#EthnicProportion</a></td><td class=typ>uri</td></tr><tr class=even><td class=val><a href=\"http://www.semwebtech.org/mondial/10/meta#Island\" target=\"_other\">http://www.semwebtech.org/mondial/10/meta#Island</a></td><td class=typ>uri</td></tr><tr class=odd><td class=val><a href=\"http://www.semwebtech.org/mondial/10/meta#Province\" target=\"_other\">http://www.semwebtech.org/mondial/10/meta#Province</a></td><td class=typ>uri</td></tr><tr class=even><td class=val><a href=\"http://www.semwebtech.org/mondial/10/meta#Lake\" target=\"_other\">http://www.semwebtech.org/mondial/10/meta#Lake</a></td><td class=typ>uri</td></tr><tr class=odd><td class=val><a href=\"http://www.semwebtech.org/mondial/10/meta#Sea\" target=\"_other\">http://www.semwebtech.org/mondial/10/meta#Sea</a></td><td class=typ>uri</td></tr><tr class=even><td class=val><a href=\"http://www.semwebtech.org/mondial/10/meta#Source\" target=\"_other\">http://www.semwebtech.org/mondial/10/meta#Source</a></td><td class=typ>uri</td></tr><tr class=odd><td class=val><a href=\"http://www.semwebtech.org/mondial/10/meta#Encompassed\" target=\"_other\">http://www.semwebtech.org/mondial/10/meta#Encompassed</a></td><td class=typ>uri</td></tr><tr class=even><td class=val><a href=\"http://www.semwebtech.org/mondial/10/meta#River\" target=\"_other\">http://www.semwebtech.org/mondial/10/meta#River</a></td><td class=typ>uri</td></tr><tr class=odd><td class=val><a href=\"http://www.semwebtech.org/mondial/10/meta#EthnicGroup\" target=\"_other\">http://www.semwebtech.org/mondial/10/meta#EthnicGroup</a></td><td class=typ>uri</td></tr><tr class=even><td class=val><a href=\"http://www.semwebtech.org/mondial/10/meta#Estuary\" target=\"_other\">http://www.semwebtech.org/mondial/10/meta#Estuary</a></td><td class=typ>uri</td></tr><tr class=odd><td class=val><a href=\"http://www.semwebtech.org/mondial/10/meta#Language\" target=\"_other\">http://www.semwebtech.org/mondial/10/meta#Language</a></td><td class=typ>uri</td></tr><tr class=even><td class=val><a href=\"http://www.semwebtech.org/mondial/10/meta#Volcano\" target=\"_other\">http://www.semwebtech.org/mondial/10/meta#Volcano</a></td><td class=typ>uri</td></tr></table><div class=\"tinfo\">Total: 34, Shown: 20</div></div>"
      ]
     },
     "metadata": {},
     "output_type": "display_data"
    }
   ],
   "source": [
    "%format any\n",
    "%display table withtypes\n",
    "\n",
    "PREFIX prefix: <http://prefix.cc/>\n",
    "PREFIX co: <http://purl.org/ontology/co/core#>\n",
    "PREFIX coun: <http://www.daml.org/2001/09/countries/iso-3166-ont#>\n",
    "prefix rdfs: <http://www.w3.org/2000/01/rdf-schema#>\n",
    "prefix owl: <http://www.w3.org/2002/07/owl#>\n",
    "prefix mon: <http://www.semwebtech.org/mondial/10/meta#>\n",
    "prefix mondial: <http://www.semwebtech.org/mondial/10/>\n",
    "SELECT DISTINCT ?t\n",
    "WHERE {\n",
    "    ?a a ?t\n",
    "} "
   ]
  },
  {
   "cell_type": "markdown",
   "metadata": {},
   "source": [
    "### Les propriétes liées à des sujets de type Country"
   ]
  },
  {
   "cell_type": "code",
   "execution_count": 96,
   "metadata": {},
   "outputs": [
    {
     "data": {
      "text/html": [
       "<div class=\"krn-spql\"><div class=\"magic\">Request format: ANY</div><div class=\"magic\">Display: table</div><div class=\"magic\">Result maximum size: 100</div></div>"
      ],
      "text/plain": [
       "Request format: ANY\n",
       "Display: table\n",
       "Result maximum size: 100\n"
      ]
     },
     "metadata": {},
     "output_type": "display_data"
    },
    {
     "data": {
      "text/html": [
       "<div class=\"krn-spql\"><table><tr class=hdr><th>p</th></tr><tr class=odd><td class=val><a href=\"http://www.semwebtech.org/mondial/10/meta#inOrganization\" target=\"_other\">http://www.semwebtech.org/mondial/10/meta#inOrganization</a></td></tr><tr class=even><td class=val><a href=\"http://www.semwebtech.org/mondial/10/meta#ofMember\" target=\"_other\">http://www.semwebtech.org/mondial/10/meta#ofMember</a></td></tr><tr class=odd><td class=val><a href=\"http://www.semwebtech.org/mondial/10/meta#type\" target=\"_other\">http://www.semwebtech.org/mondial/10/meta#type</a></td></tr><tr class=even><td class=val><a href=\"http://www.w3.org/1999/02/22-rdf-syntax-ns#type\" target=\"_other\">http://www.w3.org/1999/02/22-rdf-syntax-ns#type</a></td></tr></table><div class=\"tinfo\">Total: 4, Shown: 4</div></div>"
      ]
     },
     "metadata": {},
     "output_type": "display_data"
    }
   ],
   "source": [
    "%format any\n",
    "%display table \n",
    "%show 100\n",
    "\n",
    "\n",
    "PREFIX prefix: <http://prefix.cc/>\n",
    "PREFIX co: <http://purl.org/ontology/co/core#>\n",
    "PREFIX coun: <http://www.daml.org/2001/09/countries/iso-3166-ont#>\n",
    "prefix rdfs: <http://www.w3.org/2000/01/rdf-schema#>\n",
    "prefix owl: <http://www.w3.org/2002/07/owl#>\n",
    "prefix : <http://www.semwebtech.org/mondial/10/meta#>\n",
    "prefix mondial: <http://www.semwebtech.org/mondial/10/>\n",
    "SELECT DISTINCT ?p\n",
    "WHERE {\n",
    "    ?a a :Membership ;\n",
    "         ?p ?x \n",
    "} LIMIT 200"
   ]
  },
  {
   "cell_type": "markdown",
   "metadata": {},
   "source": [
    "### Les propriétes liées à des sujets de type River"
   ]
  },
  {
   "cell_type": "code",
   "execution_count": 41,
   "metadata": {
    "scrolled": true
   },
   "outputs": [
    {
     "data": {
      "text/html": [
       "<div class=\"krn-spql\"><div class=\"magic\">Request format: ANY</div><div class=\"magic\">Display: table</div><div class=\"magic\">Result maximum size: 100</div></div>"
      ],
      "text/plain": [
       "Request format: ANY\n",
       "Display: table\n",
       "Result maximum size: 100\n"
      ]
     },
     "metadata": {},
     "output_type": "display_data"
    },
    {
     "data": {
      "text/html": [
       "<div class=\"krn-spql\"><table><tr class=hdr><th>p</th></tr><tr class=odd><td class=val><a href=\"http://www.semwebtech.org/mondial/10/meta#locatedIn\" target=\"_other\">http://www.semwebtech.org/mondial/10/meta#locatedIn</a></td></tr><tr class=even><td class=val><a href=\"http://www.semwebtech.org/mondial/10/meta#area\" target=\"_other\">http://www.semwebtech.org/mondial/10/meta#area</a></td></tr><tr class=odd><td class=val><a href=\"http://www.semwebtech.org/mondial/10/meta#flowsInto\" target=\"_other\">http://www.semwebtech.org/mondial/10/meta#flowsInto</a></td></tr><tr class=even><td class=val><a href=\"http://www.semwebtech.org/mondial/10/meta#length\" target=\"_other\">http://www.semwebtech.org/mondial/10/meta#length</a></td></tr><tr class=odd><td class=val><a href=\"http://www.w3.org/1999/02/22-rdf-syntax-ns#type\" target=\"_other\">http://www.w3.org/1999/02/22-rdf-syntax-ns#type</a></td></tr><tr class=even><td class=val><a href=\"http://www.semwebtech.org/mondial/10/meta#name\" target=\"_other\">http://www.semwebtech.org/mondial/10/meta#name</a></td></tr><tr class=odd><td class=val><a href=\"http://www.semwebtech.org/mondial/10/meta#hasEstuary\" target=\"_other\">http://www.semwebtech.org/mondial/10/meta#hasEstuary</a></td></tr><tr class=even><td class=val><a href=\"http://www.semwebtech.org/mondial/10/meta#hasSource\" target=\"_other\">http://www.semwebtech.org/mondial/10/meta#hasSource</a></td></tr><tr class=odd><td class=val><a href=\"http://www.w3.org/2002/07/owl#sameAs\" target=\"_other\">http://www.w3.org/2002/07/owl#sameAs</a></td></tr><tr class=even><td class=val><a href=\"http://www.semwebtech.org/mondial/10/meta#locatedOnIsland\" target=\"_other\">http://www.semwebtech.org/mondial/10/meta#locatedOnIsland</a></td></tr><tr class=odd><td class=val><a href=\"http://www.semwebtech.org/mondial/10/meta#flowsThrough\" target=\"_other\">http://www.semwebtech.org/mondial/10/meta#flowsThrough</a></td></tr></table><div class=\"tinfo\">Total: 11, Shown: 11</div></div>"
      ]
     },
     "metadata": {},
     "output_type": "display_data"
    }
   ],
   "source": [
    "%format any\n",
    "%display table \n",
    "%show 100\n",
    "\n",
    "\n",
    "PREFIX prefix: <http://prefix.cc/>\n",
    "PREFIX co: <http://purl.org/ontology/co/core#>\n",
    "PREFIX coun: <http://www.daml.org/2001/09/countries/iso-3166-ont#>\n",
    "prefix rdfs: <http://www.w3.org/2000/01/rdf-schema#>\n",
    "prefix owl: <http://www.w3.org/2002/07/owl#>\n",
    "prefix : <http://www.semwebtech.org/mondial/10/meta#>\n",
    "prefix mondial: <http://www.semwebtech.org/mondial/10/>\n",
    "SELECT DISTINCT ?p\n",
    "WHERE {\n",
    "    ?a a :River ;\n",
    "         ?p ?x \n",
    "} LIMIT 200"
   ]
  },
  {
   "cell_type": "code",
   "execution_count": 73,
   "metadata": {},
   "outputs": [
    {
     "data": {
      "text/html": [
       "<div class=\"krn-spql\"><table><tr class=hdr><th>p</th></tr><tr class=odd><td class=val><a href=\"http://www.w3.org/1999/02/22-rdf-syntax-ns#type\" target=\"_other\">http://www.w3.org/1999/02/22-rdf-syntax-ns#type</a></td></tr><tr class=even><td class=val><a href=\"http://www.semwebtech.org/mondial/10/meta#latitude\" target=\"_other\">http://www.semwebtech.org/mondial/10/meta#latitude</a></td></tr><tr class=odd><td class=val><a href=\"http://www.semwebtech.org/mondial/10/meta#name\" target=\"_other\">http://www.semwebtech.org/mondial/10/meta#name</a></td></tr><tr class=even><td class=val><a href=\"http://www.semwebtech.org/mondial/10/meta#area\" target=\"_other\">http://www.semwebtech.org/mondial/10/meta#area</a></td></tr><tr class=odd><td class=val><a href=\"http://www.semwebtech.org/mondial/10/meta#longitude\" target=\"_other\">http://www.semwebtech.org/mondial/10/meta#longitude</a></td></tr><tr class=even><td class=val><a href=\"http://www.semwebtech.org/mondial/10/meta#locatedIn\" target=\"_other\">http://www.semwebtech.org/mondial/10/meta#locatedIn</a></td></tr><tr class=odd><td class=val><a href=\"http://www.semwebtech.org/mondial/10/meta#depth\" target=\"_other\">http://www.semwebtech.org/mondial/10/meta#depth</a></td></tr><tr class=even><td class=val><a href=\"http://www.semwebtech.org/mondial/10/meta#elevation\" target=\"_other\">http://www.semwebtech.org/mondial/10/meta#elevation</a></td></tr><tr class=odd><td class=val><a href=\"http://www.semwebtech.org/mondial/10/meta#type\" target=\"_other\">http://www.semwebtech.org/mondial/10/meta#type</a></td></tr><tr class=even><td class=val><a href=\"http://www.semwebtech.org/mondial/10/meta#flowsInto\" target=\"_other\">http://www.semwebtech.org/mondial/10/meta#flowsInto</a></td></tr><tr class=odd><td class=val><a href=\"http://www.semwebtech.org/mondial/10/meta#locatedOnIsland\" target=\"_other\">http://www.semwebtech.org/mondial/10/meta#locatedOnIsland</a></td></tr><tr class=even><td class=val><a href=\"http://www.w3.org/2002/07/owl#sameAs\" target=\"_other\">http://www.w3.org/2002/07/owl#sameAs</a></td></tr></table><div class=\"tinfo\">Total: 12, Shown: 12</div></div>"
      ]
     },
     "metadata": {},
     "output_type": "display_data"
    }
   ],
   "source": [
    "PREFIX prefix: <http://prefix.cc/>\n",
    "PREFIX co: <http://purl.org/ontology/co/core#>\n",
    "PREFIX coun: <http://www.daml.org/2001/09/countries/iso-3166-ont#>\n",
    "prefix rdfs: <http://www.w3.org/2000/01/rdf-schema#>\n",
    "prefix owl: <http://www.w3.org/2002/07/owl#>\n",
    "prefix : <http://www.semwebtech.org/mondial/10/meta#>\n",
    "prefix mondial: <http://www.semwebtech.org/mondial/10/>\n",
    "SELECT DISTINCT ?p\n",
    "WHERE {\n",
    "    ?a a :Lake ;\n",
    "         ?p ?x \n",
    "} LIMIT 200"
   ]
  },
  {
   "cell_type": "markdown",
   "metadata": {},
   "source": [
    "## Questions\n",
    "Exprimer les requetes qui retournent les informations suivantes :"
   ]
  },
  {
   "cell_type": "markdown",
   "metadata": {},
   "source": [
    "### 1-a les affluents (:River) directs et indirects de la mer du nord"
   ]
  },
  {
   "cell_type": "code",
   "execution_count": 56,
   "metadata": {
    "scrolled": false
   },
   "outputs": [
    {
     "data": {
      "text/html": [
       "<div class=\"krn-spql\"><div class=\"magic\">Result maximum size: 20</div><div class=\"magic\">Request format: ANY</div></div>"
      ],
      "text/plain": [
       "Result maximum size: 20\n",
       "Request format: ANY\n"
      ]
     },
     "metadata": {},
     "output_type": "display_data"
    },
    {
     "data": {
      "text/html": [
       "<div class=\"krn-spql\"><table><tr class=hdr><th>r</th></tr><tr class=odd><td class=val><a href=\"http://www.semwebtech.org/mondial/10/rivers/Berounka/\" target=\"_other\">http://www.semwebtech.org/mondial/10/rivers/Berounka/</a></td></tr><tr class=even><td class=val><a href=\"http://www.semwebtech.org/mondial/10/rivers/Enz/\" target=\"_other\">http://www.semwebtech.org/mondial/10/rivers/Enz/</a></td></tr><tr class=odd><td class=val><a href=\"http://www.semwebtech.org/mondial/10/rivers/Thames/\" target=\"_other\">http://www.semwebtech.org/mondial/10/rivers/Thames/</a></td></tr><tr class=even><td class=val><a href=\"http://www.semwebtech.org/mondial/10/rivers/Moldau/\" target=\"_other\">http://www.semwebtech.org/mondial/10/rivers/Moldau/</a></td></tr><tr class=odd><td class=val><a href=\"http://www.semwebtech.org/mondial/10/rivers/Maas/\" target=\"_other\">http://www.semwebtech.org/mondial/10/rivers/Maas/</a></td></tr><tr class=even><td class=val><a href=\"http://www.semwebtech.org/mondial/10/rivers/Lippe/\" target=\"_other\">http://www.semwebtech.org/mondial/10/rivers/Lippe/</a></td></tr><tr class=odd><td class=val><a href=\"http://www.semwebtech.org/mondial/10/rivers/Saane/\" target=\"_other\">http://www.semwebtech.org/mondial/10/rivers/Saane/</a></td></tr><tr class=even><td class=val><a href=\"http://www.semwebtech.org/mondial/10/rivers/Saar/\" target=\"_other\">http://www.semwebtech.org/mondial/10/rivers/Saar/</a></td></tr><tr class=odd><td class=val><a href=\"http://www.semwebtech.org/mondial/10/rivers/Birs/\" target=\"_other\">http://www.semwebtech.org/mondial/10/rivers/Birs/</a></td></tr><tr class=even><td class=val><a href=\"http://www.semwebtech.org/mondial/10/rivers/Hinterrhein/\" target=\"_other\">http://www.semwebtech.org/mondial/10/rivers/Hinterrhein/</a></td></tr><tr class=odd><td class=val><a href=\"http://www.semwebtech.org/mondial/10/rivers/Sieg/\" target=\"_other\">http://www.semwebtech.org/mondial/10/rivers/Sieg/</a></td></tr><tr class=even><td class=val><a href=\"http://www.semwebtech.org/mondial/10/rivers/Wupper/\" target=\"_other\">http://www.semwebtech.org/mondial/10/rivers/Wupper/</a></td></tr><tr class=odd><td class=val><a href=\"http://www.semwebtech.org/mondial/10/rivers/Aller/\" target=\"_other\">http://www.semwebtech.org/mondial/10/rivers/Aller/</a></td></tr><tr class=even><td class=val><a href=\"http://www.semwebtech.org/mondial/10/rivers/Orbe/\" target=\"_other\">http://www.semwebtech.org/mondial/10/rivers/Orbe/</a></td></tr><tr class=odd><td class=val><a href=\"http://www.semwebtech.org/mondial/10/rivers/Rhein/\" target=\"_other\">http://www.semwebtech.org/mondial/10/rivers/Rhein/</a></td></tr><tr class=even><td class=val><a href=\"http://www.semwebtech.org/mondial/10/rivers/Great+Ouse/\" target=\"_other\">http://www.semwebtech.org/mondial/10/rivers/Great+Ouse/</a></td></tr><tr class=odd><td class=val><a href=\"http://www.semwebtech.org/mondial/10/rivers/Rednitz/\" target=\"_other\">http://www.semwebtech.org/mondial/10/rivers/Rednitz/</a></td></tr><tr class=even><td class=val><a href=\"http://www.semwebtech.org/mondial/10/rivers/Weser/\" target=\"_other\">http://www.semwebtech.org/mondial/10/rivers/Weser/</a></td></tr><tr class=odd><td class=val><a href=\"http://www.semwebtech.org/mondial/10/rivers/Eger/\" target=\"_other\">http://www.semwebtech.org/mondial/10/rivers/Eger/</a></td></tr><tr class=even><td class=val><a href=\"http://www.semwebtech.org/mondial/10/rivers/Emscher/\" target=\"_other\">http://www.semwebtech.org/mondial/10/rivers/Emscher/</a></td></tr></table><div class=\"tinfo\">Total: 56, Shown: 20</div></div>"
      ]
     },
     "metadata": {},
     "output_type": "display_data"
    }
   ],
   "source": [
    "%show 20\n",
    "%format any\n",
    " \n",
    "PREFIX prefix: <http://prefix.cc/>\n",
    "PREFIX co: <http://purl.org/ontology/co/core#>\n",
    "PREFIX coun: <http://www.daml.org/2001/09/countries/iso-3166-ont#>\n",
    "prefix rdfs: <http://www.w3.org/2000/01/rdf-schema#>\n",
    "prefix owl: <http://www.w3.org/2002/07/owl#>\n",
    "prefix : <http://www.semwebtech.org/mondial/10/meta#>\n",
    "prefix mondial: <http://www.semwebtech.org/mondial/10/>\n",
    "base <http://www.semwebtech.org/mondial/10/>\n",
    "SELECT ?r\n",
    "WHERE {  \n",
    "       ?r a :River .\n",
    "       ?r :flowsInto+ <seas/North+Sea/>\n",
    "       }\n"
   ]
  },
  {
   "cell_type": "markdown",
   "metadata": {},
   "source": [
    "### 1-b- le nombre d'affluents (:River) directs et indirects de la mer du nord"
   ]
  },
  {
   "cell_type": "code",
   "execution_count": 57,
   "metadata": {},
   "outputs": [
    {
     "data": {
      "text/html": [
       "<div class=\"krn-spql\"><div class=\"magic\">Result maximum size: 20</div><div class=\"magic\">Request format: ANY</div></div>"
      ],
      "text/plain": [
       "Result maximum size: 20\n",
       "Request format: ANY\n"
      ]
     },
     "metadata": {},
     "output_type": "display_data"
    },
    {
     "data": {
      "text/html": [
       "<div class=\"krn-spql\"><table><tr class=hdr><th>count</th></tr><tr class=odd><td class=val>56</td></tr></table><div class=\"tinfo\">Total: 1, Shown: 1</div></div>"
      ]
     },
     "metadata": {},
     "output_type": "display_data"
    }
   ],
   "source": [
    "%show 20\n",
    "# %format n3\n",
    "%format ANY\n",
    "#%lang en\n",
    "#%display table\n",
    "#%display diagram svg\n",
    "PREFIX prefix: <http://prefix.cc/>\n",
    "PREFIX co: <http://purl.org/ontology/co/core#>\n",
    "PREFIX coun: <http://www.daml.org/2001/09/countries/iso-3166-ont#>\n",
    "prefix rdfs: <http://www.w3.org/2000/01/rdf-schema#>\n",
    "prefix owl: <http://www.w3.org/2002/07/owl#>\n",
    "prefix : <http://www.semwebtech.org/mondial/10/meta#>\n",
    "prefix mondial: <http://www.semwebtech.org/mondial/10/>\n",
    "base <http://www.semwebtech.org/mondial/10/>\n",
    "\n",
    "SELECT (COUNT(?r) AS ?count)\n",
    "WHERE {\n",
    "  ?r a :River .\n",
    "  ?r :flowsInto+ <seas/North+Sea/>\n",
    "}"
   ]
  },
  {
   "cell_type": "markdown",
   "metadata": {},
   "source": [
    "### 2-a Le affluents (:River) directs ou indirects de la mer du nord qui  passent  par le Rhin"
   ]
  },
  {
   "cell_type": "code",
   "execution_count": 63,
   "metadata": {},
   "outputs": [
    {
     "data": {
      "text/html": [
       "<div class=\"krn-spql\"><div class=\"magic\">Result maximum size: 20</div><div class=\"magic\">Request format: ANY</div></div>"
      ],
      "text/plain": [
       "Result maximum size: 20\n",
       "Request format: ANY\n"
      ]
     },
     "metadata": {},
     "output_type": "display_data"
    },
    {
     "data": {
      "text/html": [
       "<div class=\"krn-spql\"><table><tr class=hdr><th>r</th></tr><tr class=odd><td class=val><a href=\"http://www.semwebtech.org/mondial/10/rivers/Enz/\" target=\"_other\">http://www.semwebtech.org/mondial/10/rivers/Enz/</a></td></tr><tr class=even><td class=val><a href=\"http://www.semwebtech.org/mondial/10/rivers/Maas/\" target=\"_other\">http://www.semwebtech.org/mondial/10/rivers/Maas/</a></td></tr><tr class=odd><td class=val><a href=\"http://www.semwebtech.org/mondial/10/rivers/Lippe/\" target=\"_other\">http://www.semwebtech.org/mondial/10/rivers/Lippe/</a></td></tr><tr class=even><td class=val><a href=\"http://www.semwebtech.org/mondial/10/rivers/Saane/\" target=\"_other\">http://www.semwebtech.org/mondial/10/rivers/Saane/</a></td></tr><tr class=odd><td class=val><a href=\"http://www.semwebtech.org/mondial/10/rivers/Saar/\" target=\"_other\">http://www.semwebtech.org/mondial/10/rivers/Saar/</a></td></tr><tr class=even><td class=val><a href=\"http://www.semwebtech.org/mondial/10/rivers/Birs/\" target=\"_other\">http://www.semwebtech.org/mondial/10/rivers/Birs/</a></td></tr><tr class=odd><td class=val><a href=\"http://www.semwebtech.org/mondial/10/rivers/Hinterrhein/\" target=\"_other\">http://www.semwebtech.org/mondial/10/rivers/Hinterrhein/</a></td></tr><tr class=even><td class=val><a href=\"http://www.semwebtech.org/mondial/10/rivers/Sieg/\" target=\"_other\">http://www.semwebtech.org/mondial/10/rivers/Sieg/</a></td></tr><tr class=odd><td class=val><a href=\"http://www.semwebtech.org/mondial/10/rivers/Wupper/\" target=\"_other\">http://www.semwebtech.org/mondial/10/rivers/Wupper/</a></td></tr><tr class=even><td class=val><a href=\"http://www.semwebtech.org/mondial/10/rivers/Orbe/\" target=\"_other\">http://www.semwebtech.org/mondial/10/rivers/Orbe/</a></td></tr><tr class=odd><td class=val><a href=\"http://www.semwebtech.org/mondial/10/rivers/Rednitz/\" target=\"_other\">http://www.semwebtech.org/mondial/10/rivers/Rednitz/</a></td></tr><tr class=even><td class=val><a href=\"http://www.semwebtech.org/mondial/10/rivers/Emscher/\" target=\"_other\">http://www.semwebtech.org/mondial/10/rivers/Emscher/</a></td></tr><tr class=odd><td class=val><a href=\"http://www.semwebtech.org/mondial/10/rivers/Limmat/\" target=\"_other\">http://www.semwebtech.org/mondial/10/rivers/Limmat/</a></td></tr><tr class=even><td class=val><a href=\"http://www.semwebtech.org/mondial/10/rivers/Pegnitz/\" target=\"_other\">http://www.semwebtech.org/mondial/10/rivers/Pegnitz/</a></td></tr><tr class=odd><td class=val><a href=\"http://www.semwebtech.org/mondial/10/rivers/Lahn/\" target=\"_other\">http://www.semwebtech.org/mondial/10/rivers/Lahn/</a></td></tr><tr class=even><td class=val><a href=\"http://www.semwebtech.org/mondial/10/rivers/Mosel/\" target=\"_other\">http://www.semwebtech.org/mondial/10/rivers/Mosel/</a></td></tr><tr class=odd><td class=val><a href=\"http://www.semwebtech.org/mondial/10/rivers/Ruhr/\" target=\"_other\">http://www.semwebtech.org/mondial/10/rivers/Ruhr/</a></td></tr><tr class=even><td class=val><a href=\"http://www.semwebtech.org/mondial/10/rivers/Meurthe/\" target=\"_other\">http://www.semwebtech.org/mondial/10/rivers/Meurthe/</a></td></tr><tr class=odd><td class=val><a href=\"http://www.semwebtech.org/mondial/10/rivers/Ill/\" target=\"_other\">http://www.semwebtech.org/mondial/10/rivers/Ill/</a></td></tr><tr class=even><td class=val><a href=\"http://www.semwebtech.org/mondial/10/rivers/Main/\" target=\"_other\">http://www.semwebtech.org/mondial/10/rivers/Main/</a></td></tr></table><div class=\"tinfo\">Total: 31, Shown: 20</div></div>"
      ]
     },
     "metadata": {},
     "output_type": "display_data"
    }
   ],
   "source": [
    "%show 20\n",
    " %format ANY\n",
    " \n",
    "PREFIX prefix: <http://prefix.cc/>\n",
    "PREFIX co: <http://purl.org/ontology/co/core#>\n",
    "PREFIX coun: <http://www.daml.org/2001/09/countries/iso-3166-ont#>\n",
    "prefix rdfs: <http://www.w3.org/2000/01/rdf-schema#>\n",
    "prefix owl: <http://www.w3.org/2002/07/owl#>\n",
    "prefix : <http://www.semwebtech.org/mondial/10/meta#>\n",
    "prefix mondial: <http://www.semwebtech.org/mondial/10/>\n",
    "base <http://www.semwebtech.org/mondial/10/>\n",
    "\n",
    "SELECT distinct ?r\n",
    "WHERE {\n",
    "  ?r a :River .\n",
    "  ?r :flowsInto+ <rivers/Rhein/> .\n",
    "  ?r :flowsInto+ <seas/North+Sea/> .\n",
    "}"
   ]
  },
  {
   "cell_type": "markdown",
   "metadata": {},
   "source": [
    "### 2-b Le affluents (:River) directs et indirects de la mer du nord qui ne passent pas par le Rhin\n"
   ]
  },
  {
   "cell_type": "code",
   "execution_count": 64,
   "metadata": {
    "scrolled": true
   },
   "outputs": [
    {
     "data": {
      "text/html": [
       "<div class=\"krn-spql\"><div class=\"magic\">Result maximum size: 20</div><div class=\"magic\">Request format: ANY</div></div>"
      ],
      "text/plain": [
       "Result maximum size: 20\n",
       "Request format: ANY\n"
      ]
     },
     "metadata": {},
     "output_type": "display_data"
    },
    {
     "data": {
      "text/html": [
       "<div class=\"krn-spql\"><table><tr class=hdr><th>r</th></tr><tr class=odd><td class=val><a href=\"http://www.semwebtech.org/mondial/10/rivers/Berounka/\" target=\"_other\">http://www.semwebtech.org/mondial/10/rivers/Berounka/</a></td></tr><tr class=even><td class=val><a href=\"http://www.semwebtech.org/mondial/10/rivers/Thames/\" target=\"_other\">http://www.semwebtech.org/mondial/10/rivers/Thames/</a></td></tr><tr class=odd><td class=val><a href=\"http://www.semwebtech.org/mondial/10/rivers/Moldau/\" target=\"_other\">http://www.semwebtech.org/mondial/10/rivers/Moldau/</a></td></tr><tr class=even><td class=val><a href=\"http://www.semwebtech.org/mondial/10/rivers/Aller/\" target=\"_other\">http://www.semwebtech.org/mondial/10/rivers/Aller/</a></td></tr><tr class=odd><td class=val><a href=\"http://www.semwebtech.org/mondial/10/rivers/Rhein/\" target=\"_other\">http://www.semwebtech.org/mondial/10/rivers/Rhein/</a></td></tr><tr class=even><td class=val><a href=\"http://www.semwebtech.org/mondial/10/rivers/Great+Ouse/\" target=\"_other\">http://www.semwebtech.org/mondial/10/rivers/Great+Ouse/</a></td></tr><tr class=odd><td class=val><a href=\"http://www.semwebtech.org/mondial/10/rivers/Weser/\" target=\"_other\">http://www.semwebtech.org/mondial/10/rivers/Weser/</a></td></tr><tr class=even><td class=val><a href=\"http://www.semwebtech.org/mondial/10/rivers/Eger/\" target=\"_other\">http://www.semwebtech.org/mondial/10/rivers/Eger/</a></td></tr><tr class=odd><td class=val><a href=\"http://www.semwebtech.org/mondial/10/rivers/Oker/\" target=\"_other\">http://www.semwebtech.org/mondial/10/rivers/Oker/</a></td></tr><tr class=even><td class=val><a href=\"http://www.semwebtech.org/mondial/10/rivers/Ems/\" target=\"_other\">http://www.semwebtech.org/mondial/10/rivers/Ems/</a></td></tr><tr class=odd><td class=val><a href=\"http://www.semwebtech.org/mondial/10/rivers/Spree/\" target=\"_other\">http://www.semwebtech.org/mondial/10/rivers/Spree/</a></td></tr><tr class=even><td class=val><a href=\"http://www.semwebtech.org/mondial/10/rivers/Saale/\" target=\"_other\">http://www.semwebtech.org/mondial/10/rivers/Saale/</a></td></tr><tr class=odd><td class=val><a href=\"http://www.semwebtech.org/mondial/10/rivers/Fulda/\" target=\"_other\">http://www.semwebtech.org/mondial/10/rivers/Fulda/</a></td></tr><tr class=even><td class=val><a href=\"http://www.semwebtech.org/mondial/10/rivers/Trent/\" target=\"_other\">http://www.semwebtech.org/mondial/10/rivers/Trent/</a></td></tr><tr class=odd><td class=val><a href=\"http://www.semwebtech.org/mondial/10/rivers/Mulde/\" target=\"_other\">http://www.semwebtech.org/mondial/10/rivers/Mulde/</a></td></tr><tr class=even><td class=val><a href=\"http://www.semwebtech.org/mondial/10/rivers/Leine/\" target=\"_other\">http://www.semwebtech.org/mondial/10/rivers/Leine/</a></td></tr><tr class=odd><td class=val><a href=\"http://www.semwebtech.org/mondial/10/rivers/Schelde/\" target=\"_other\">http://www.semwebtech.org/mondial/10/rivers/Schelde/</a></td></tr><tr class=even><td class=val><a href=\"http://www.semwebtech.org/mondial/10/rivers/Weiße+Elster/\" target=\"_other\">http://www.semwebtech.org/mondial/10/rivers/Weiße+Elster/</a></td></tr><tr class=odd><td class=val><a href=\"http://www.semwebtech.org/mondial/10/rivers/Aire/\" target=\"_other\">http://www.semwebtech.org/mondial/10/rivers/Aire/</a></td></tr><tr class=even><td class=val><a href=\"http://www.semwebtech.org/mondial/10/rivers/Ness/\" target=\"_other\">http://www.semwebtech.org/mondial/10/rivers/Ness/</a></td></tr></table><div class=\"tinfo\">Total: 25, Shown: 20</div></div>"
      ]
     },
     "metadata": {},
     "output_type": "display_data"
    }
   ],
   "source": [
    "%show 20\n",
    " %format ANY\n",
    " \n",
    "PREFIX prefix: <http://prefix.cc/>\n",
    "PREFIX co: <http://purl.org/ontology/co/core#>\n",
    "PREFIX coun: <http://www.daml.org/2001/09/countries/iso-3166-ont#>\n",
    "prefix rdfs: <http://www.w3.org/2000/01/rdf-schema#>\n",
    "prefix owl: <http://www.w3.org/2002/07/owl#>\n",
    "prefix : <http://www.semwebtech.org/mondial/10/meta#>\n",
    "prefix mondial: <http://www.semwebtech.org/mondial/10/>\n",
    "base <http://www.semwebtech.org/mondial/10/>\n",
    "\n",
    "SELECT ?r\n",
    "WHERE {\n",
    "  ?r a :River .\n",
    "  ?r :flowsInto+ <seas/North+Sea/> .\n",
    "  MINUS {\n",
    "    ?r :flowsInto+ <rivers/Rhein/>\n",
    "  }\n",
    "}\n",
    "\n"
   ]
  },
  {
   "cell_type": "markdown",
   "metadata": {},
   "source": [
    "### 3- Les rivières avec au moins vingt affluents."
   ]
  },
  {
   "cell_type": "code",
   "execution_count": 71,
   "metadata": {
    "scrolled": false
   },
   "outputs": [
    {
     "data": {
      "text/html": [
       "<div class=\"krn-spql\"><div class=\"magic\">Result maximum size: 20</div><div class=\"magic\">Request format: ANY</div></div>"
      ],
      "text/plain": [
       "Result maximum size: 20\n",
       "Request format: ANY\n"
      ]
     },
     "metadata": {},
     "output_type": "display_data"
    },
    {
     "data": {
      "text/html": [
       "<div class=\"krn-spql\"><table><tr class=hdr><th>r</th></tr><tr class=odd><td class=val><a href=\"http://www.semwebtech.org/mondial/10/rivers/Nile/\" target=\"_other\">http://www.semwebtech.org/mondial/10/rivers/Nile/</a></td></tr><tr class=even><td class=val><a href=\"http://www.semwebtech.org/mondial/10/rivers/Donau/\" target=\"_other\">http://www.semwebtech.org/mondial/10/rivers/Donau/</a></td></tr><tr class=odd><td class=val><a href=\"http://www.semwebtech.org/mondial/10/rivers/Rhein/\" target=\"_other\">http://www.semwebtech.org/mondial/10/rivers/Rhein/</a></td></tr><tr class=even><td class=val><a href=\"http://www.semwebtech.org/mondial/10/rivers/Amazonas/\" target=\"_other\">http://www.semwebtech.org/mondial/10/rivers/Amazonas/</a></td></tr><tr class=odd><td class=val><a href=\"http://www.semwebtech.org/mondial/10/rivers/Congo/\" target=\"_other\">http://www.semwebtech.org/mondial/10/rivers/Congo/</a></td></tr></table><div class=\"tinfo\">Total: 5, Shown: 5</div></div>"
      ]
     },
     "metadata": {},
     "output_type": "display_data"
    }
   ],
   "source": [
    "%show 20\n",
    " %format ANY\n",
    " \n",
    "PREFIX prefix: <http://prefix.cc/>\n",
    "PREFIX co: <http://purl.org/ontology/co/core#>\n",
    "PREFIX coun: <http://www.daml.org/2001/09/countries/iso-3166-ont#>\n",
    "prefix rdfs: <http://www.w3.org/2000/01/rdf-schema#>\n",
    "prefix owl: <http://www.w3.org/2002/07/owl#>\n",
    "prefix : <http://www.semwebtech.org/mondial/10/meta#>\n",
    "prefix mondial: <http://www.semwebtech.org/mondial/10/>\n",
    "base <http://www.semwebtech.org/mondial/10/>\n",
    "\n",
    "SELECT ?r\n",
    "    WHERE {\n",
    "      ?r a :River .\n",
    "      ?t :flowsInto+ ?r .\n",
    "    }\n",
    "    GROUP BY ?r\n",
    "    HAVING (COUNT(?t) > 20)\n",
    "  \n",
    "\n"
   ]
  },
  {
   "cell_type": "markdown",
   "metadata": {},
   "source": [
    "### 4- Les lacs traversés par le Rhone"
   ]
  },
  {
   "cell_type": "code",
   "execution_count": 82,
   "metadata": {
    "scrolled": false
   },
   "outputs": [
    {
     "data": {
      "text/html": [
       "<div class=\"krn-spql\"><div class=\"magic\">Result maximum size: 20</div><div class=\"magic\">Request format: ANY</div></div>"
      ],
      "text/plain": [
       "Result maximum size: 20\n",
       "Request format: ANY\n"
      ]
     },
     "metadata": {},
     "output_type": "display_data"
    },
    {
     "data": {
      "text/html": [
       "<div class=\"krn-spql\"><table><tr class=hdr><th>l</th></tr><tr class=odd><td class=val><a href=\"http://www.semwebtech.org/mondial/10/lakes/Lac+Leman/\" target=\"_other\">http://www.semwebtech.org/mondial/10/lakes/Lac+Leman/</a></td></tr></table><div class=\"tinfo\">Total: 1, Shown: 1</div></div>"
      ]
     },
     "metadata": {},
     "output_type": "display_data"
    }
   ],
   "source": [
    "%show 20\n",
    " %format ANY\n",
    " \n",
    "PREFIX prefix: <http://prefix.cc/>\n",
    "PREFIX co: <http://purl.org/ontology/co/core#>\n",
    "PREFIX coun: <http://www.daml.org/2001/09/countries/iso-3166-ont#>\n",
    "prefix rdfs: <http://www.w3.org/2000/01/rdf-schema#>\n",
    "prefix owl: <http://www.w3.org/2002/07/owl#>\n",
    "prefix : <http://www.semwebtech.org/mondial/10/meta#>\n",
    "prefix mondial: <http://www.semwebtech.org/mondial/10/>\n",
    "prefix rivers: <http://www.semwebtech.org/mondial/10/rivers/> \n",
    "base <http://www.semwebtech.org/mondial/10/>\n",
    "\n",
    "SELECT ?l\n",
    "WHERE {\n",
    "  ?r a :River .\n",
    "  ?r :name \"Rhone\" .\n",
    "  ?r :flowsThrough ?l .\n",
    "}\n"
   ]
  },
  {
   "cell_type": "markdown",
   "metadata": {},
   "source": [
    "### 5- Les pays avec plus que 10000000 habitants traversés par le Danube"
   ]
  },
  {
   "cell_type": "code",
   "execution_count": 90,
   "metadata": {
    "scrolled": false
   },
   "outputs": [
    {
     "data": {
      "text/html": [
       "<div class=\"krn-spql\"><div class=\"magic\">Result maximum size: 20</div><div class=\"magic\">Request format: ANY</div></div>"
      ],
      "text/plain": [
       "Result maximum size: 20\n",
       "Request format: ANY\n"
      ]
     },
     "metadata": {},
     "output_type": "display_data"
    },
    {
     "data": {
      "text/html": [
       "<div class=\"krn-spql\"><table><tr class=hdr><th>c</th></tr><tr class=odd><td class=val><a href=\"http://www.semwebtech.org/mondial/10/countries/D/\" target=\"_other\">http://www.semwebtech.org/mondial/10/countries/D/</a></td></tr><tr class=even><td class=val><a href=\"http://www.semwebtech.org/mondial/10/countries/RO/\" target=\"_other\">http://www.semwebtech.org/mondial/10/countries/RO/</a></td></tr><tr class=odd><td class=val><a href=\"http://www.semwebtech.org/mondial/10/countries/UA/\" target=\"_other\">http://www.semwebtech.org/mondial/10/countries/UA/</a></td></tr></table><div class=\"tinfo\">Total: 3, Shown: 3</div></div>"
      ]
     },
     "metadata": {},
     "output_type": "display_data"
    }
   ],
   "source": [
    "%show 20\n",
    " %format ANY\n",
    " \n",
    "PREFIX prefix: <http://prefix.cc/>\n",
    "PREFIX co: <http://purl.org/ontology/co/core#>\n",
    "PREFIX coun: <http://www.daml.org/2001/09/countries/iso-3166-ont#>\n",
    "prefix rdfs: <http://www.w3.org/2000/01/rdf-schema#>\n",
    "prefix owl: <http://www.w3.org/2002/07/owl#>\n",
    "prefix : <http://www.semwebtech.org/mondial/10/meta#>\n",
    "prefix mondial: <http://www.semwebtech.org/mondial/10/>\n",
    "prefix rivers: <http://www.semwebtech.org/mondial/10/rivers/> \n",
    "base <http://www.semwebtech.org/mondial/10/>\n",
    "\n",
    "SELECT ?c\n",
    "WHERE {\n",
    "  ?c a :Country .\n",
    "  ?c :population ?pop .\n",
    "  FILTER (?pop > 10000000)\n",
    "  ?r a :River.\n",
    "  ?r :name \"Donau\".\n",
    "  ?r :locatedIn ?c .\n",
    "}\n",
    "\n"
   ]
  },
  {
   "cell_type": "markdown",
   "metadata": {},
   "source": [
    "### 6- Les Pays qui appartiennent à toutes les organisations auxquelles appartient aussi le Liechtenstein"
   ]
  },
  {
   "cell_type": "code",
   "execution_count": 4,
   "metadata": {
    "scrolled": false
   },
   "outputs": [
    {
     "data": {
      "text/html": "<div class=\"krn-spql\"><div class=\"magic\">Result maximum size: 200</div><div class=\"magic\">Request format: ANY</div></div>",
      "text/plain": "Result maximum size: 200\nRequest format: ANY\n"
     },
     "metadata": {},
     "output_type": "display_data"
    },
    {
     "data": {
      "text/html": "<div class=\"krn-spql\"><table><tr class=hdr><th>country</th>\n<th>countryName</th></tr><tr class=odd><td class=val><a href=\"http://www.semwebtech.org/mondial/10/countries/GR/\" target=\"_other\">http://www.semwebtech.org/mondial/10/countries/GR/</a></td>\n<td class=val>Greece</td></tr><tr class=even><td class=val><a href=\"http://www.semwebtech.org/mondial/10/countries/SX/\" target=\"_other\">http://www.semwebtech.org/mondial/10/countries/SX/</a></td>\n<td class=val>Sint Maarten</td></tr><tr class=odd><td class=val><a href=\"http://www.semwebtech.org/mondial/10/countries/RG/\" target=\"_other\">http://www.semwebtech.org/mondial/10/countries/RG/</a></td>\n<td class=val>Guinea</td></tr><tr class=even><td class=val><a href=\"http://www.semwebtech.org/mondial/10/countries/BG/\" target=\"_other\">http://www.semwebtech.org/mondial/10/countries/BG/</a></td>\n<td class=val>Bulgaria</td></tr><tr class=odd><td class=val><a href=\"http://www.semwebtech.org/mondial/10/countries/AL/\" target=\"_other\">http://www.semwebtech.org/mondial/10/countries/AL/</a></td>\n<td class=val>Albania</td></tr><tr class=even><td class=val><a href=\"http://www.semwebtech.org/mondial/10/countries/NEP/\" target=\"_other\">http://www.semwebtech.org/mondial/10/countries/NEP/</a></td>\n<td class=val>Nepal</td></tr><tr class=odd><td class=val><a href=\"http://www.semwebtech.org/mondial/10/countries/GQ/\" target=\"_other\">http://www.semwebtech.org/mondial/10/countries/GQ/</a></td>\n<td class=val>Equatorial Guinea</td></tr><tr class=even><td class=val><a href=\"http://www.semwebtech.org/mondial/10/countries/MQ/\" target=\"_other\">http://www.semwebtech.org/mondial/10/countries/MQ/</a></td>\n<td class=val>Martinique</td></tr><tr class=odd><td class=val><a href=\"http://www.semwebtech.org/mondial/10/countries/PA/\" target=\"_other\">http://www.semwebtech.org/mondial/10/countries/PA/</a></td>\n<td class=val>Panama</td></tr><tr class=even><td class=val><a href=\"http://www.semwebtech.org/mondial/10/countries/RB/\" target=\"_other\">http://www.semwebtech.org/mondial/10/countries/RB/</a></td>\n<td class=val>Botswana</td></tr><tr class=odd><td class=val><a href=\"http://www.semwebtech.org/mondial/10/countries/BHT/\" target=\"_other\">http://www.semwebtech.org/mondial/10/countries/BHT/</a></td>\n<td class=val>Bhutan</td></tr><tr class=even><td class=val><a href=\"http://www.semwebtech.org/mondial/10/countries/SSD/\" target=\"_other\">http://www.semwebtech.org/mondial/10/countries/SSD/</a></td>\n<td class=val>South Sudan</td></tr><tr class=odd><td class=val><a href=\"http://www.semwebtech.org/mondial/10/countries/AFG/\" target=\"_other\">http://www.semwebtech.org/mondial/10/countries/AFG/</a></td>\n<td class=val>Afghanistan</td></tr><tr class=even><td class=val><a href=\"http://www.semwebtech.org/mondial/10/countries/TN/\" target=\"_other\">http://www.semwebtech.org/mondial/10/countries/TN/</a></td>\n<td class=val>Tunisia</td></tr><tr class=odd><td class=val><a href=\"http://www.semwebtech.org/mondial/10/countries/RI/\" target=\"_other\">http://www.semwebtech.org/mondial/10/countries/RI/</a></td>\n<td class=val>Indonesia</td></tr><tr class=even><td class=val><a href=\"http://www.semwebtech.org/mondial/10/countries/WV/\" target=\"_other\">http://www.semwebtech.org/mondial/10/countries/WV/</a></td>\n<td class=val>Saint Vincent and the Grenadines</td></tr><tr class=odd><td class=val><a href=\"http://www.semwebtech.org/mondial/10/countries/NIC/\" target=\"_other\">http://www.semwebtech.org/mondial/10/countries/NIC/</a></td>\n<td class=val>Nicaragua</td></tr><tr class=even><td class=val><a href=\"http://www.semwebtech.org/mondial/10/countries/MS/\" target=\"_other\">http://www.semwebtech.org/mondial/10/countries/MS/</a></td>\n<td class=val>Mauritius</td></tr><tr class=odd><td class=val><a href=\"http://www.semwebtech.org/mondial/10/countries/DJI/\" target=\"_other\">http://www.semwebtech.org/mondial/10/countries/DJI/</a></td>\n<td class=val>Djibouti</td></tr><tr class=even><td class=val><a href=\"http://www.semwebtech.org/mondial/10/countries/PK/\" target=\"_other\">http://www.semwebtech.org/mondial/10/countries/PK/</a></td>\n<td class=val>Pakistan</td></tr><tr class=odd><td class=val><a href=\"http://www.semwebtech.org/mondial/10/countries/MK/\" target=\"_other\">http://www.semwebtech.org/mondial/10/countries/MK/</a></td>\n<td class=val>North Macedonia</td></tr><tr class=even><td class=val><a href=\"http://www.semwebtech.org/mondial/10/countries/A/\" target=\"_other\">http://www.semwebtech.org/mondial/10/countries/A/</a></td>\n<td class=val>Austria</td></tr><tr class=odd><td class=val><a href=\"http://www.semwebtech.org/mondial/10/countries/FO/\" target=\"_other\">http://www.semwebtech.org/mondial/10/countries/FO/</a></td>\n<td class=val>Faroe Islands</td></tr><tr class=even><td class=val><a href=\"http://www.semwebtech.org/mondial/10/countries/SMAR/\" target=\"_other\">http://www.semwebtech.org/mondial/10/countries/SMAR/</a></td>\n<td class=val>Saint Martin</td></tr><tr class=odd><td class=val><a href=\"http://www.semwebtech.org/mondial/10/countries/SY/\" target=\"_other\">http://www.semwebtech.org/mondial/10/countries/SY/</a></td>\n<td class=val>Seychelles</td></tr><tr class=even><td class=val><a href=\"http://www.semwebtech.org/mondial/10/countries/LT/\" target=\"_other\">http://www.semwebtech.org/mondial/10/countries/LT/</a></td>\n<td class=val>Lithuania</td></tr><tr class=odd><td class=val><a href=\"http://www.semwebtech.org/mondial/10/countries/GU/\" target=\"_other\">http://www.semwebtech.org/mondial/10/countries/GU/</a></td>\n<td class=val>Guam</td></tr><tr class=even><td class=val><a href=\"http://www.semwebtech.org/mondial/10/countries/G/\" target=\"_other\">http://www.semwebtech.org/mondial/10/countries/G/</a></td>\n<td class=val>Gabon</td></tr><tr class=odd><td class=val><a href=\"http://www.semwebtech.org/mondial/10/countries/RN/\" target=\"_other\">http://www.semwebtech.org/mondial/10/countries/RN/</a></td>\n<td class=val>Niger</td></tr><tr class=even><td class=val><a href=\"http://www.semwebtech.org/mondial/10/countries/SRB/\" target=\"_other\">http://www.semwebtech.org/mondial/10/countries/SRB/</a></td>\n<td class=val>Serbia</td></tr><tr class=odd><td class=val><a href=\"http://www.semwebtech.org/mondial/10/countries/CGO/\" target=\"_other\">http://www.semwebtech.org/mondial/10/countries/CGO/</a></td>\n<td class=val>Congo, Dem.Rep.</td></tr><tr class=even><td class=val><a href=\"http://www.semwebtech.org/mondial/10/countries/AZ/\" target=\"_other\">http://www.semwebtech.org/mondial/10/countries/AZ/</a></td>\n<td class=val>Azerbaijan</td></tr><tr class=odd><td class=val><a href=\"http://www.semwebtech.org/mondial/10/countries/SA/\" target=\"_other\">http://www.semwebtech.org/mondial/10/countries/SA/</a></td>\n<td class=val>Saudi Arabia</td></tr><tr class=even><td class=val><a href=\"http://www.semwebtech.org/mondial/10/countries/GBG/\" target=\"_other\">http://www.semwebtech.org/mondial/10/countries/GBG/</a></td>\n<td class=val>Guernsey</td></tr><tr class=odd><td class=val><a href=\"http://www.semwebtech.org/mondial/10/countries/N/\" target=\"_other\">http://www.semwebtech.org/mondial/10/countries/N/</a></td>\n<td class=val>Norway</td></tr><tr class=even><td class=val><a href=\"http://www.semwebtech.org/mondial/10/countries/THA/\" target=\"_other\">http://www.semwebtech.org/mondial/10/countries/THA/</a></td>\n<td class=val>Thailand</td></tr><tr class=odd><td class=val><a href=\"http://www.semwebtech.org/mondial/10/countries/PL/\" target=\"_other\">http://www.semwebtech.org/mondial/10/countries/PL/</a></td>\n<td class=val>Poland</td></tr><tr class=even><td class=val><a href=\"http://www.semwebtech.org/mondial/10/countries/F/\" target=\"_other\">http://www.semwebtech.org/mondial/10/countries/F/</a></td>\n<td class=val>France</td></tr><tr class=odd><td class=val><a href=\"http://www.semwebtech.org/mondial/10/countries/AS/\" target=\"_other\">http://www.semwebtech.org/mondial/10/countries/AS/</a></td>\n<td class=val>American Samoa</td></tr><tr class=even><td class=val><a href=\"http://www.semwebtech.org/mondial/10/countries/TR/\" target=\"_other\">http://www.semwebtech.org/mondial/10/countries/TR/</a></td>\n<td class=val>Turkey</td></tr><tr class=odd><td class=val><a href=\"http://www.semwebtech.org/mondial/10/countries/ARM/\" target=\"_other\">http://www.semwebtech.org/mondial/10/countries/ARM/</a></td>\n<td class=val>Armenia</td></tr><tr class=even><td class=val><a href=\"http://www.semwebtech.org/mondial/10/countries/SLO/\" target=\"_other\">http://www.semwebtech.org/mondial/10/countries/SLO/</a></td>\n<td class=val>Slovenia</td></tr><tr class=odd><td class=val><a href=\"http://www.semwebtech.org/mondial/10/countries/FSM/\" target=\"_other\">http://www.semwebtech.org/mondial/10/countries/FSM/</a></td>\n<td class=val>Micronesia</td></tr><tr class=even><td class=val><a href=\"http://www.semwebtech.org/mondial/10/countries/BI/\" target=\"_other\">http://www.semwebtech.org/mondial/10/countries/BI/</a></td>\n<td class=val>Burundi</td></tr><tr class=odd><td class=val><a href=\"http://www.semwebtech.org/mondial/10/countries/GH/\" target=\"_other\">http://www.semwebtech.org/mondial/10/countries/GH/</a></td>\n<td class=val>Ghana</td></tr><tr class=even><td class=val><a href=\"http://www.semwebtech.org/mondial/10/countries/MW/\" target=\"_other\">http://www.semwebtech.org/mondial/10/countries/MW/</a></td>\n<td class=val>Malawi</td></tr><tr class=odd><td class=val><a href=\"http://www.semwebtech.org/mondial/10/countries/MAC/\" target=\"_other\">http://www.semwebtech.org/mondial/10/countries/MAC/</a></td>\n<td class=val>Macau</td></tr><tr class=even><td class=val><a href=\"http://www.semwebtech.org/mondial/10/countries/CV/\" target=\"_other\">http://www.semwebtech.org/mondial/10/countries/CV/</a></td>\n<td class=val>Cape Verde</td></tr><tr class=odd><td class=val><a href=\"http://www.semwebtech.org/mondial/10/countries/I/\" target=\"_other\">http://www.semwebtech.org/mondial/10/countries/I/</a></td>\n<td class=val>Italy</td></tr><tr class=even><td class=val><a href=\"http://www.semwebtech.org/mondial/10/countries/NCL/\" target=\"_other\">http://www.semwebtech.org/mondial/10/countries/NCL/</a></td>\n<td class=val>New Caledonia</td></tr><tr class=odd><td class=val><a href=\"http://www.semwebtech.org/mondial/10/countries/SN/\" target=\"_other\">http://www.semwebtech.org/mondial/10/countries/SN/</a></td>\n<td class=val>Senegal</td></tr><tr class=even><td class=val><a href=\"http://www.semwebtech.org/mondial/10/countries/WSA/\" target=\"_other\">http://www.semwebtech.org/mondial/10/countries/WSA/</a></td>\n<td class=val>Western Sahara</td></tr><tr class=odd><td class=val><a href=\"http://www.semwebtech.org/mondial/10/countries/CN/\" target=\"_other\">http://www.semwebtech.org/mondial/10/countries/CN/</a></td>\n<td class=val>China</td></tr><tr class=even><td class=val><a href=\"http://www.semwebtech.org/mondial/10/countries/NGR/\" target=\"_other\">http://www.semwebtech.org/mondial/10/countries/NGR/</a></td>\n<td class=val>Nigeria</td></tr><tr class=odd><td class=val><a href=\"http://www.semwebtech.org/mondial/10/countries/PY/\" target=\"_other\">http://www.semwebtech.org/mondial/10/countries/PY/</a></td>\n<td class=val>Paraguay</td></tr><tr class=even><td class=val><a href=\"http://www.semwebtech.org/mondial/10/countries/KZ/\" target=\"_other\">http://www.semwebtech.org/mondial/10/countries/KZ/</a></td>\n<td class=val>Kazakhstan</td></tr><tr class=odd><td class=val><a href=\"http://www.semwebtech.org/mondial/10/countries/FL/\" target=\"_other\">http://www.semwebtech.org/mondial/10/countries/FL/</a></td>\n<td class=val>Liechtenstein</td></tr><tr class=even><td class=val><a href=\"http://www.semwebtech.org/mondial/10/countries/RH/\" target=\"_other\">http://www.semwebtech.org/mondial/10/countries/RH/</a></td>\n<td class=val>Haiti</td></tr><tr class=odd><td class=val><a href=\"http://www.semwebtech.org/mondial/10/countries/H/\" target=\"_other\">http://www.semwebtech.org/mondial/10/countries/H/</a></td>\n<td class=val>Hungary</td></tr><tr class=even><td class=val><a href=\"http://www.semwebtech.org/mondial/10/countries/FJI/\" target=\"_other\">http://www.semwebtech.org/mondial/10/countries/FJI/</a></td>\n<td class=val>Fiji</td></tr><tr class=odd><td class=val><a href=\"http://www.semwebtech.org/mondial/10/countries/SGP/\" target=\"_other\">http://www.semwebtech.org/mondial/10/countries/SGP/</a></td>\n<td class=val>Singapore</td></tr><tr class=even><td class=val><a href=\"http://www.semwebtech.org/mondial/10/countries/GUB/\" target=\"_other\">http://www.semwebtech.org/mondial/10/countries/GUB/</a></td>\n<td class=val>Guinea-Bissau</td></tr><tr class=odd><td class=val><a href=\"http://www.semwebtech.org/mondial/10/countries/LAO/\" target=\"_other\">http://www.semwebtech.org/mondial/10/countries/LAO/</a></td>\n<td class=val>Laos</td></tr><tr class=even><td class=val><a href=\"http://www.semwebtech.org/mondial/10/countries/OM/\" target=\"_other\">http://www.semwebtech.org/mondial/10/countries/OM/</a></td>\n<td class=val>Oman</td></tr><tr class=odd><td class=val><a href=\"http://www.semwebtech.org/mondial/10/countries/BRN/\" target=\"_other\">http://www.semwebtech.org/mondial/10/countries/BRN/</a></td>\n<td class=val>Bahrain</td></tr><tr class=even><td class=val><a href=\"http://www.semwebtech.org/mondial/10/countries/PNG/\" target=\"_other\">http://www.semwebtech.org/mondial/10/countries/PNG/</a></td>\n<td class=val>Papua New Guinea</td></tr><tr class=odd><td class=val><a href=\"http://www.semwebtech.org/mondial/10/countries/MYT/\" target=\"_other\">http://www.semwebtech.org/mondial/10/countries/MYT/</a></td>\n<td class=val>Mayotte</td></tr><tr class=even><td class=val><a href=\"http://www.semwebtech.org/mondial/10/countries/IR/\" target=\"_other\">http://www.semwebtech.org/mondial/10/countries/IR/</a></td>\n<td class=val>Iran</td></tr><tr class=odd><td class=val><a href=\"http://www.semwebtech.org/mondial/10/countries/MA/\" target=\"_other\">http://www.semwebtech.org/mondial/10/countries/MA/</a></td>\n<td class=val>Morocco</td></tr><tr class=even><td class=val><a href=\"http://www.semwebtech.org/mondial/10/countries/EAU/\" target=\"_other\">http://www.semwebtech.org/mondial/10/countries/EAU/</a></td>\n<td class=val>Uganda</td></tr><tr class=odd><td class=val><a href=\"http://www.semwebtech.org/mondial/10/countries/PN/\" target=\"_other\">http://www.semwebtech.org/mondial/10/countries/PN/</a></td>\n<td class=val>Pitcairn</td></tr><tr class=even><td class=val><a href=\"http://www.semwebtech.org/mondial/10/countries/RMM/\" target=\"_other\">http://www.semwebtech.org/mondial/10/countries/RMM/</a></td>\n<td class=val>Mali</td></tr><tr class=odd><td class=val><a href=\"http://www.semwebtech.org/mondial/10/countries/CAM/\" target=\"_other\">http://www.semwebtech.org/mondial/10/countries/CAM/</a></td>\n<td class=val>Cameroon</td></tr><tr class=even><td class=val><a href=\"http://www.semwebtech.org/mondial/10/countries/V/\" target=\"_other\">http://www.semwebtech.org/mondial/10/countries/V/</a></td>\n<td class=val>Vatican City</td></tr><tr class=odd><td class=val><a href=\"http://www.semwebtech.org/mondial/10/countries/DZ/\" target=\"_other\">http://www.semwebtech.org/mondial/10/countries/DZ/</a></td>\n<td class=val>Algeria</td></tr><tr class=even><td class=val><a href=\"http://www.semwebtech.org/mondial/10/countries/BD/\" target=\"_other\">http://www.semwebtech.org/mondial/10/countries/BD/</a></td>\n<td class=val>Bangladesh</td></tr><tr class=odd><td class=val><a href=\"http://www.semwebtech.org/mondial/10/countries/EAT/\" target=\"_other\">http://www.semwebtech.org/mondial/10/countries/EAT/</a></td>\n<td class=val>Tanzania</td></tr><tr class=even><td class=val><a href=\"http://www.semwebtech.org/mondial/10/countries/LB/\" target=\"_other\">http://www.semwebtech.org/mondial/10/countries/LB/</a></td>\n<td class=val>Liberia</td></tr><tr class=odd><td class=val><a href=\"http://www.semwebtech.org/mondial/10/countries/RC/\" target=\"_other\">http://www.semwebtech.org/mondial/10/countries/RC/</a></td>\n<td class=val>Taiwan</td></tr><tr class=even><td class=val><a href=\"http://www.semwebtech.org/mondial/10/countries/MEX/\" target=\"_other\">http://www.semwebtech.org/mondial/10/countries/MEX/</a></td>\n<td class=val>Mexico</td></tr><tr class=odd><td class=val><a href=\"http://www.semwebtech.org/mondial/10/countries/PE/\" target=\"_other\">http://www.semwebtech.org/mondial/10/countries/PE/</a></td>\n<td class=val>Peru</td></tr><tr class=even><td class=val><a href=\"http://www.semwebtech.org/mondial/10/countries/BY/\" target=\"_other\">http://www.semwebtech.org/mondial/10/countries/BY/</a></td>\n<td class=val>Belarus</td></tr><tr class=odd><td class=val><a href=\"http://www.semwebtech.org/mondial/10/countries/KN/\" target=\"_other\">http://www.semwebtech.org/mondial/10/countries/KN/</a></td>\n<td class=val>Saint Kitts and Nevis</td></tr><tr class=even><td class=val><a href=\"http://www.semwebtech.org/mondial/10/countries/IND/\" target=\"_other\">http://www.semwebtech.org/mondial/10/countries/IND/</a></td>\n<td class=val>India</td></tr><tr class=odd><td class=val><a href=\"http://www.semwebtech.org/mondial/10/countries/MOC/\" target=\"_other\">http://www.semwebtech.org/mondial/10/countries/MOC/</a></td>\n<td class=val>Mozambique</td></tr><tr class=even><td class=val><a href=\"http://www.semwebtech.org/mondial/10/countries/AG/\" target=\"_other\">http://www.semwebtech.org/mondial/10/countries/AG/</a></td>\n<td class=val>Antigua and Barbuda</td></tr><tr class=odd><td class=val><a href=\"http://www.semwebtech.org/mondial/10/countries/GCA/\" target=\"_other\">http://www.semwebtech.org/mondial/10/countries/GCA/</a></td>\n<td class=val>Guatemala</td></tr><tr class=even><td class=val><a href=\"http://www.semwebtech.org/mondial/10/countries/SUD/\" target=\"_other\">http://www.semwebtech.org/mondial/10/countries/SUD/</a></td>\n<td class=val>Sudan</td></tr><tr class=odd><td class=val><a href=\"http://www.semwebtech.org/mondial/10/countries/BF/\" target=\"_other\">http://www.semwebtech.org/mondial/10/countries/BF/</a></td>\n<td class=val>Burkina Faso</td></tr><tr class=even><td class=val><a href=\"http://www.semwebtech.org/mondial/10/countries/MAL/\" target=\"_other\">http://www.semwebtech.org/mondial/10/countries/MAL/</a></td>\n<td class=val>Malaysia</td></tr><tr class=odd><td class=val><a href=\"http://www.semwebtech.org/mondial/10/countries/VU/\" target=\"_other\">http://www.semwebtech.org/mondial/10/countries/VU/</a></td>\n<td class=val>Vanuatu</td></tr><tr class=even><td class=val><a href=\"http://www.semwebtech.org/mondial/10/countries/CH/\" target=\"_other\">http://www.semwebtech.org/mondial/10/countries/CH/</a></td>\n<td class=val>Switzerland</td></tr><tr class=odd><td class=val><a href=\"http://www.semwebtech.org/mondial/10/countries/IS/\" target=\"_other\">http://www.semwebtech.org/mondial/10/countries/IS/</a></td>\n<td class=val>Iceland</td></tr><tr class=even><td class=val><a href=\"http://www.semwebtech.org/mondial/10/countries/MNTS/\" target=\"_other\">http://www.semwebtech.org/mondial/10/countries/MNTS/</a></td>\n<td class=val>Montserrat</td></tr><tr class=odd><td class=val><a href=\"http://www.semwebtech.org/mondial/10/countries/MNG/\" target=\"_other\">http://www.semwebtech.org/mondial/10/countries/MNG/</a></td>\n<td class=val>Mongolia</td></tr><tr class=even><td class=val><a href=\"http://www.semwebtech.org/mondial/10/countries/UZ/\" target=\"_other\">http://www.semwebtech.org/mondial/10/countries/UZ/</a></td>\n<td class=val>Uzbekistan</td></tr><tr class=odd><td class=val><a href=\"http://www.semwebtech.org/mondial/10/countries/JOR/\" target=\"_other\">http://www.semwebtech.org/mondial/10/countries/JOR/</a></td>\n<td class=val>Jordan</td></tr><tr class=even><td class=val><a href=\"http://www.semwebtech.org/mondial/10/countries/HN/\" target=\"_other\">http://www.semwebtech.org/mondial/10/countries/HN/</a></td>\n<td class=val>Honduras</td></tr><tr class=odd><td class=val><a href=\"http://www.semwebtech.org/mondial/10/countries/STP/\" target=\"_other\">http://www.semwebtech.org/mondial/10/countries/STP/</a></td>\n<td class=val>Sao Tome and Principe</td></tr><tr class=even><td class=val><a href=\"http://www.semwebtech.org/mondial/10/countries/TT/\" target=\"_other\">http://www.semwebtech.org/mondial/10/countries/TT/</a></td>\n<td class=val>Trinidad and Tobago</td></tr><tr class=odd><td class=val><a href=\"http://www.semwebtech.org/mondial/10/countries/SME/\" target=\"_other\">http://www.semwebtech.org/mondial/10/countries/SME/</a></td>\n<td class=val>Suriname</td></tr><tr class=even><td class=val><a href=\"http://www.semwebtech.org/mondial/10/countries/PR/\" target=\"_other\">http://www.semwebtech.org/mondial/10/countries/PR/</a></td>\n<td class=val>Puerto Rico</td></tr><tr class=odd><td class=val><a href=\"http://www.semwebtech.org/mondial/10/countries/CY/\" target=\"_other\">http://www.semwebtech.org/mondial/10/countries/CY/</a></td>\n<td class=val>Cyprus</td></tr><tr class=even><td class=val><a href=\"http://www.semwebtech.org/mondial/10/countries/USA/\" target=\"_other\">http://www.semwebtech.org/mondial/10/countries/USA/</a></td>\n<td class=val>United States</td></tr><tr class=odd><td class=val><a href=\"http://www.semwebtech.org/mondial/10/countries/TCH/\" target=\"_other\">http://www.semwebtech.org/mondial/10/countries/TCH/</a></td>\n<td class=val>Chad</td></tr><tr class=even><td class=val><a href=\"http://www.semwebtech.org/mondial/10/countries/CDN/\" target=\"_other\">http://www.semwebtech.org/mondial/10/countries/CDN/</a></td>\n<td class=val>Canada</td></tr><tr class=odd><td class=val><a href=\"http://www.semwebtech.org/mondial/10/countries/JA/\" target=\"_other\">http://www.semwebtech.org/mondial/10/countries/JA/</a></td>\n<td class=val>Jamaica</td></tr><tr class=even><td class=val><a href=\"http://www.semwebtech.org/mondial/10/countries/K/\" target=\"_other\">http://www.semwebtech.org/mondial/10/countries/K/</a></td>\n<td class=val>Cambodia</td></tr><tr class=odd><td class=val><a href=\"http://www.semwebtech.org/mondial/10/countries/C/\" target=\"_other\">http://www.semwebtech.org/mondial/10/countries/C/</a></td>\n<td class=val>Cuba</td></tr><tr class=even><td class=val><a href=\"http://www.semwebtech.org/mondial/10/countries/SOL/\" target=\"_other\">http://www.semwebtech.org/mondial/10/countries/SOL/</a></td>\n<td class=val>Solomon Islands</td></tr><tr class=odd><td class=val><a href=\"http://www.semwebtech.org/mondial/10/countries/J/\" target=\"_other\">http://www.semwebtech.org/mondial/10/countries/J/</a></td>\n<td class=val>Japan</td></tr><tr class=even><td class=val><a href=\"http://www.semwebtech.org/mondial/10/countries/B/\" target=\"_other\">http://www.semwebtech.org/mondial/10/countries/B/</a></td>\n<td class=val>Belgium</td></tr><tr class=odd><td class=val><a href=\"http://www.semwebtech.org/mondial/10/countries/HR/\" target=\"_other\">http://www.semwebtech.org/mondial/10/countries/HR/</a></td>\n<td class=val>Croatia</td></tr><tr class=even><td class=val><a href=\"http://www.semwebtech.org/mondial/10/countries/LS/\" target=\"_other\">http://www.semwebtech.org/mondial/10/countries/LS/</a></td>\n<td class=val>Lesotho</td></tr><tr class=odd><td class=val><a href=\"http://www.semwebtech.org/mondial/10/countries/RSA/\" target=\"_other\">http://www.semwebtech.org/mondial/10/countries/RSA/</a></td>\n<td class=val>South Africa</td></tr><tr class=even><td class=val><a href=\"http://www.semwebtech.org/mondial/10/countries/UA/\" target=\"_other\">http://www.semwebtech.org/mondial/10/countries/UA/</a></td>\n<td class=val>Ukraine</td></tr><tr class=odd><td class=val><a href=\"http://www.semwebtech.org/mondial/10/countries/AUS/\" target=\"_other\">http://www.semwebtech.org/mondial/10/countries/AUS/</a></td>\n<td class=val>Australia</td></tr><tr class=even><td class=val><a href=\"http://www.semwebtech.org/mondial/10/countries/SBAR/\" target=\"_other\">http://www.semwebtech.org/mondial/10/countries/SBAR/</a></td>\n<td class=val>Saint Barthelemy</td></tr><tr class=odd><td class=val><a href=\"http://www.semwebtech.org/mondial/10/countries/BRU/\" target=\"_other\">http://www.semwebtech.org/mondial/10/countries/BRU/</a></td>\n<td class=val>Brunei</td></tr><tr class=even><td class=val><a href=\"http://www.semwebtech.org/mondial/10/countries/KWT/\" target=\"_other\">http://www.semwebtech.org/mondial/10/countries/KWT/</a></td>\n<td class=val>Kuwait</td></tr><tr class=odd><td class=val><a href=\"http://www.semwebtech.org/mondial/10/countries/CR/\" target=\"_other\">http://www.semwebtech.org/mondial/10/countries/CR/</a></td>\n<td class=val>Costa Rica</td></tr><tr class=even><td class=val><a href=\"http://www.semwebtech.org/mondial/10/countries/TOK/\" target=\"_other\">http://www.semwebtech.org/mondial/10/countries/TOK/</a></td>\n<td class=val>Tokelau</td></tr><tr class=odd><td class=val><a href=\"http://www.semwebtech.org/mondial/10/countries/WAG/\" target=\"_other\">http://www.semwebtech.org/mondial/10/countries/WAG/</a></td>\n<td class=val>Gambia</td></tr><tr class=even><td class=val><a href=\"http://www.semwebtech.org/mondial/10/countries/NL/\" target=\"_other\">http://www.semwebtech.org/mondial/10/countries/NL/</a></td>\n<td class=val>Netherlands</td></tr><tr class=odd><td class=val><a href=\"http://www.semwebtech.org/mondial/10/countries/GUY/\" target=\"_other\">http://www.semwebtech.org/mondial/10/countries/GUY/</a></td>\n<td class=val>Guyana</td></tr><tr class=even><td class=val><a href=\"http://www.semwebtech.org/mondial/10/countries/PF/\" target=\"_other\">http://www.semwebtech.org/mondial/10/countries/PF/</a></td>\n<td class=val>French Polynesia</td></tr><tr class=odd><td class=val><a href=\"http://www.semwebtech.org/mondial/10/countries/BR/\" target=\"_other\">http://www.semwebtech.org/mondial/10/countries/BR/</a></td>\n<td class=val>Brazil</td></tr><tr class=even><td class=val><a href=\"http://www.semwebtech.org/mondial/10/countries/NZ/\" target=\"_other\">http://www.semwebtech.org/mondial/10/countries/NZ/</a></td>\n<td class=val>New Zealand</td></tr><tr class=odd><td class=val><a href=\"http://www.semwebtech.org/mondial/10/countries/CI/\" target=\"_other\">http://www.semwebtech.org/mondial/10/countries/CI/</a></td>\n<td class=val>Cote d'Ivoire</td></tr><tr class=even><td class=val><a href=\"http://www.semwebtech.org/mondial/10/countries/BDS/\" target=\"_other\">http://www.semwebtech.org/mondial/10/countries/BDS/</a></td>\n<td class=val>Barbados</td></tr><tr class=odd><td class=val><a href=\"http://www.semwebtech.org/mondial/10/countries/DK/\" target=\"_other\">http://www.semwebtech.org/mondial/10/countries/DK/</a></td>\n<td class=val>Denmark</td></tr><tr class=even><td class=val><a href=\"http://www.semwebtech.org/mondial/10/countries/COM/\" target=\"_other\">http://www.semwebtech.org/mondial/10/countries/COM/</a></td>\n<td class=val>Comoros</td></tr><tr class=odd><td class=val><a href=\"http://www.semwebtech.org/mondial/10/countries/IRL/\" target=\"_other\">http://www.semwebtech.org/mondial/10/countries/IRL/</a></td>\n<td class=val>Ireland</td></tr><tr class=even><td class=val><a href=\"http://www.semwebtech.org/mondial/10/countries/WL/\" target=\"_other\">http://www.semwebtech.org/mondial/10/countries/WL/</a></td>\n<td class=val>Saint Lucia</td></tr><tr class=odd><td class=val><a href=\"http://www.semwebtech.org/mondial/10/countries/VN/\" target=\"_other\">http://www.semwebtech.org/mondial/10/countries/VN/</a></td>\n<td class=val>Vietnam</td></tr><tr class=even><td class=val><a href=\"http://www.semwebtech.org/mondial/10/countries/BOL/\" target=\"_other\">http://www.semwebtech.org/mondial/10/countries/BOL/</a></td>\n<td class=val>Bolivia</td></tr><tr class=odd><td class=val><a href=\"http://www.semwebtech.org/mondial/10/countries/CO/\" target=\"_other\">http://www.semwebtech.org/mondial/10/countries/CO/</a></td>\n<td class=val>Colombia</td></tr><tr class=even><td class=val><a href=\"http://www.semwebtech.org/mondial/10/countries/SLE/\" target=\"_other\">http://www.semwebtech.org/mondial/10/countries/SLE/</a></td>\n<td class=val>Sierra Leone</td></tr><tr class=odd><td class=val><a href=\"http://www.semwebtech.org/mondial/10/countries/SO/\" target=\"_other\">http://www.semwebtech.org/mondial/10/countries/SO/</a></td>\n<td class=val>Somalia</td></tr><tr class=even><td class=val><a href=\"http://www.semwebtech.org/mondial/10/countries/ETH/\" target=\"_other\">http://www.semwebtech.org/mondial/10/countries/ETH/</a></td>\n<td class=val>Ethiopia</td></tr><tr class=odd><td class=val><a href=\"http://www.semwebtech.org/mondial/10/countries/KIR/\" target=\"_other\">http://www.semwebtech.org/mondial/10/countries/KIR/</a></td>\n<td class=val>Kiribati</td></tr><tr class=even><td class=val><a href=\"http://www.semwebtech.org/mondial/10/countries/IL/\" target=\"_other\">http://www.semwebtech.org/mondial/10/countries/IL/</a></td>\n<td class=val>Israel</td></tr><tr class=odd><td class=val><a href=\"http://www.semwebtech.org/mondial/10/countries/YE/\" target=\"_other\">http://www.semwebtech.org/mondial/10/countries/YE/</a></td>\n<td class=val>Yemen</td></tr><tr class=even><td class=val><a href=\"http://www.semwebtech.org/mondial/10/countries/TM/\" target=\"_other\">http://www.semwebtech.org/mondial/10/countries/TM/</a></td>\n<td class=val>Turkmenistan</td></tr><tr class=odd><td class=val><a href=\"http://www.semwebtech.org/mondial/10/countries/S/\" target=\"_other\">http://www.semwebtech.org/mondial/10/countries/S/</a></td>\n<td class=val>Sweden</td></tr><tr class=even><td class=val><a href=\"http://www.semwebtech.org/mondial/10/countries/ANG/\" target=\"_other\">http://www.semwebtech.org/mondial/10/countries/ANG/</a></td>\n<td class=val>Angola</td></tr><tr class=odd><td class=val><a href=\"http://www.semwebtech.org/mondial/10/countries/TL/\" target=\"_other\">http://www.semwebtech.org/mondial/10/countries/TL/</a></td>\n<td class=val>Timor-Leste</td></tr><tr class=even><td class=val><a href=\"http://www.semwebtech.org/mondial/10/countries/BEN/\" target=\"_other\">http://www.semwebtech.org/mondial/10/countries/BEN/</a></td>\n<td class=val>Benin</td></tr><tr class=odd><td class=val><a href=\"http://www.semwebtech.org/mondial/10/countries/R/\" target=\"_other\">http://www.semwebtech.org/mondial/10/countries/R/</a></td>\n<td class=val>Russia</td></tr><tr class=even><td class=val><a href=\"http://www.semwebtech.org/mondial/10/countries/NAU/\" target=\"_other\">http://www.semwebtech.org/mondial/10/countries/NAU/</a></td>\n<td class=val>Nauru</td></tr><tr class=odd><td class=val><a href=\"http://www.semwebtech.org/mondial/10/countries/NAM/\" target=\"_other\">http://www.semwebtech.org/mondial/10/countries/NAM/</a></td>\n<td class=val>Namibia</td></tr><tr class=even><td class=val><a href=\"http://www.semwebtech.org/mondial/10/countries/WF/\" target=\"_other\">http://www.semwebtech.org/mondial/10/countries/WF/</a></td>\n<td class=val>Wallis and Futuna</td></tr><tr class=odd><td class=val><a href=\"http://www.semwebtech.org/mondial/10/countries/MD/\" target=\"_other\">http://www.semwebtech.org/mondial/10/countries/MD/</a></td>\n<td class=val>Moldova</td></tr><tr class=even><td class=val><a href=\"http://www.semwebtech.org/mondial/10/countries/MC/\" target=\"_other\">http://www.semwebtech.org/mondial/10/countries/MC/</a></td>\n<td class=val>Monaco</td></tr><tr class=odd><td class=val><a href=\"http://www.semwebtech.org/mondial/10/countries/SD/\" target=\"_other\">http://www.semwebtech.org/mondial/10/countries/SD/</a></td>\n<td class=val>Eswatini</td></tr><tr class=even><td class=val><a href=\"http://www.semwebtech.org/mondial/10/countries/DOM/\" target=\"_other\">http://www.semwebtech.org/mondial/10/countries/DOM/</a></td>\n<td class=val>Dominican Republic</td></tr><tr class=odd><td class=val><a href=\"http://www.semwebtech.org/mondial/10/countries/GBJ/\" target=\"_other\">http://www.semwebtech.org/mondial/10/countries/GBJ/</a></td>\n<td class=val>Jersey</td></tr><tr class=even><td class=val><a href=\"http://www.semwebtech.org/mondial/10/countries/HK/\" target=\"_other\">http://www.semwebtech.org/mondial/10/countries/HK/</a></td>\n<td class=val>Hong Kong</td></tr><tr class=odd><td class=val><a href=\"http://www.semwebtech.org/mondial/10/countries/RCB/\" target=\"_other\">http://www.semwebtech.org/mondial/10/countries/RCB/</a></td>\n<td class=val>Congo</td></tr><tr class=even><td class=val><a href=\"http://www.semwebtech.org/mondial/10/countries/WS/\" target=\"_other\">http://www.semwebtech.org/mondial/10/countries/WS/</a></td>\n<td class=val>Samoa</td></tr><tr class=odd><td class=val><a href=\"http://www.semwebtech.org/mondial/10/countries/RT/\" target=\"_other\">http://www.semwebtech.org/mondial/10/countries/RT/</a></td>\n<td class=val>Togo</td></tr><tr class=even><td class=val><a href=\"http://www.semwebtech.org/mondial/10/countries/CZ/\" target=\"_other\">http://www.semwebtech.org/mondial/10/countries/CZ/</a></td>\n<td class=val>Czech Republic</td></tr><tr class=odd><td class=val><a href=\"http://www.semwebtech.org/mondial/10/countries/RCH/\" target=\"_other\">http://www.semwebtech.org/mondial/10/countries/RCH/</a></td>\n<td class=val>Chile</td></tr><tr class=even><td class=val><a href=\"http://www.semwebtech.org/mondial/10/countries/KP/\" target=\"_other\">http://www.semwebtech.org/mondial/10/countries/KP/</a></td>\n<td class=val>North Korea</td></tr><tr class=odd><td class=val><a href=\"http://www.semwebtech.org/mondial/10/countries/MP/\" target=\"_other\">http://www.semwebtech.org/mondial/10/countries/MP/</a></td>\n<td class=val>Northern Mariana Islands</td></tr><tr class=even><td class=val><a href=\"http://www.semwebtech.org/mondial/10/countries/MH/\" target=\"_other\">http://www.semwebtech.org/mondial/10/countries/MH/</a></td>\n<td class=val>Marshall Islands</td></tr><tr class=odd><td class=val><a href=\"http://www.semwebtech.org/mondial/10/countries/RCA/\" target=\"_other\">http://www.semwebtech.org/mondial/10/countries/RCA/</a></td>\n<td class=val>Central African Republic</td></tr><tr class=even><td class=val><a href=\"http://www.semwebtech.org/mondial/10/countries/RA/\" target=\"_other\">http://www.semwebtech.org/mondial/10/countries/RA/</a></td>\n<td class=val>Argentina</td></tr><tr class=odd><td class=val><a href=\"http://www.semwebtech.org/mondial/10/countries/BZ/\" target=\"_other\">http://www.semwebtech.org/mondial/10/countries/BZ/</a></td>\n<td class=val>Belize</td></tr><tr class=even><td class=val><a href=\"http://www.semwebtech.org/mondial/10/countries/MV/\" target=\"_other\">http://www.semwebtech.org/mondial/10/countries/MV/</a></td>\n<td class=val>Maldives</td></tr><tr class=odd><td class=val><a href=\"http://www.semwebtech.org/mondial/10/countries/KG/\" target=\"_other\">http://www.semwebtech.org/mondial/10/countries/KG/</a></td>\n<td class=val>Kyrgyzstan</td></tr><tr class=even><td class=val><a href=\"http://www.semwebtech.org/mondial/10/countries/IRQ/\" target=\"_other\">http://www.semwebtech.org/mondial/10/countries/IRQ/</a></td>\n<td class=val>Iraq</td></tr><tr class=odd><td class=val><a href=\"http://www.semwebtech.org/mondial/10/countries/CUR/\" target=\"_other\">http://www.semwebtech.org/mondial/10/countries/CUR/</a></td>\n<td class=val>Curacao</td></tr><tr class=even><td class=val><a href=\"http://www.semwebtech.org/mondial/10/countries/Z/\" target=\"_other\">http://www.semwebtech.org/mondial/10/countries/Z/</a></td>\n<td class=val>Zambia</td></tr><tr class=odd><td class=val><a href=\"http://www.semwebtech.org/mondial/10/countries/SYR/\" target=\"_other\">http://www.semwebtech.org/mondial/10/countries/SYR/</a></td>\n<td class=val>Syria</td></tr><tr class=even><td class=val><a href=\"http://www.semwebtech.org/mondial/10/countries/BS/\" target=\"_other\">http://www.semwebtech.org/mondial/10/countries/BS/</a></td>\n<td class=val>Bahamas</td></tr><tr class=odd><td class=val><a href=\"http://www.semwebtech.org/mondial/10/countries/YV/\" target=\"_other\">http://www.semwebtech.org/mondial/10/countries/YV/</a></td>\n<td class=val>Venezuela</td></tr><tr class=even><td class=val><a href=\"http://www.semwebtech.org/mondial/10/countries/TUV/\" target=\"_other\">http://www.semwebtech.org/mondial/10/countries/TUV/</a></td>\n<td class=val>Tuvalu</td></tr><tr class=odd><td class=val><a href=\"http://www.semwebtech.org/mondial/10/countries/ZW/\" target=\"_other\">http://www.semwebtech.org/mondial/10/countries/ZW/</a></td>\n<td class=val>Zimbabwe</td></tr><tr class=even><td class=val><a href=\"http://www.semwebtech.org/mondial/10/countries/MNE/\" target=\"_other\">http://www.semwebtech.org/mondial/10/countries/MNE/</a></td>\n<td class=val>Montenegro</td></tr><tr class=odd><td class=val><a href=\"http://www.semwebtech.org/mondial/10/countries/TUCA/\" target=\"_other\">http://www.semwebtech.org/mondial/10/countries/TUCA/</a></td>\n<td class=val>Turks and Caicos Islands</td></tr><tr class=even><td class=val><a href=\"http://www.semwebtech.org/mondial/10/countries/AXA/\" target=\"_other\">http://www.semwebtech.org/mondial/10/countries/AXA/</a></td>\n<td class=val>Anguilla</td></tr><tr class=odd><td class=val><a href=\"http://www.semwebtech.org/mondial/10/countries/SPM/\" target=\"_other\">http://www.semwebtech.org/mondial/10/countries/SPM/</a></td>\n<td class=val>Saint Pierre and Miquelon</td></tr><tr class=even><td class=val><a href=\"http://www.semwebtech.org/mondial/10/countries/WD/\" target=\"_other\">http://www.semwebtech.org/mondial/10/countries/WD/</a></td>\n<td class=val>Dominica</td></tr><tr class=odd><td class=val><a href=\"http://www.semwebtech.org/mondial/10/countries/RM/\" target=\"_other\">http://www.semwebtech.org/mondial/10/countries/RM/</a></td>\n<td class=val>Madagascar</td></tr><tr class=even><td class=val><a href=\"http://www.semwebtech.org/mondial/10/countries/AND/\" target=\"_other\">http://www.semwebtech.org/mondial/10/countries/AND/</a></td>\n<td class=val>Andorra</td></tr><tr class=odd><td class=val><a href=\"http://www.semwebtech.org/mondial/10/countries/RE/\" target=\"_other\">http://www.semwebtech.org/mondial/10/countries/RE/</a></td>\n<td class=val>Reunion</td></tr><tr class=even><td class=val><a href=\"http://www.semwebtech.org/mondial/10/countries/ROK/\" target=\"_other\">http://www.semwebtech.org/mondial/10/countries/ROK/</a></td>\n<td class=val>South Korea</td></tr><tr class=odd><td class=val><a href=\"http://www.semwebtech.org/mondial/10/countries/FALK/\" target=\"_other\">http://www.semwebtech.org/mondial/10/countries/FALK/</a></td>\n<td class=val>Falkland Islands</td></tr><tr class=even><td class=val><a href=\"http://www.semwebtech.org/mondial/10/countries/EC/\" target=\"_other\">http://www.semwebtech.org/mondial/10/countries/EC/</a></td>\n<td class=val>Ecuador</td></tr><tr class=odd><td class=val><a href=\"http://www.semwebtech.org/mondial/10/countries/E/\" target=\"_other\">http://www.semwebtech.org/mondial/10/countries/E/</a></td>\n<td class=val>Spain</td></tr><tr class=even><td class=val><a href=\"http://www.semwebtech.org/mondial/10/countries/UAE/\" target=\"_other\">http://www.semwebtech.org/mondial/10/countries/UAE/</a></td>\n<td class=val>United Arab Emirates</td></tr><tr class=odd><td class=val><a href=\"http://www.semwebtech.org/mondial/10/countries/KOS/\" target=\"_other\">http://www.semwebtech.org/mondial/10/countries/KOS/</a></td>\n<td class=val>Kosovo</td></tr><tr class=even><td class=val><a href=\"http://www.semwebtech.org/mondial/10/countries/RO/\" target=\"_other\">http://www.semwebtech.org/mondial/10/countries/RO/</a></td>\n<td class=val>Romania</td></tr><tr class=odd><td class=val><a href=\"http://www.semwebtech.org/mondial/10/countries/NU/\" target=\"_other\">http://www.semwebtech.org/mondial/10/countries/NU/</a></td>\n<td class=val>Niue</td></tr><tr class=even><td class=val><a href=\"http://www.semwebtech.org/mondial/10/countries/SF/\" target=\"_other\">http://www.semwebtech.org/mondial/10/countries/SF/</a></td>\n<td class=val>Finland</td></tr><tr class=odd><td class=val><a href=\"http://www.semwebtech.org/mondial/10/countries/RWA/\" target=\"_other\">http://www.semwebtech.org/mondial/10/countries/RWA/</a></td>\n<td class=val>Rwanda</td></tr><tr class=even><td class=val><a href=\"http://www.semwebtech.org/mondial/10/countries/CL/\" target=\"_other\">http://www.semwebtech.org/mondial/10/countries/CL/</a></td>\n<td class=val>Sri Lanka</td></tr><tr class=odd><td class=val><a href=\"http://www.semwebtech.org/mondial/10/countries/ET/\" target=\"_other\">http://www.semwebtech.org/mondial/10/countries/ET/</a></td>\n<td class=val>Egypt</td></tr><tr class=even><td class=val><a href=\"http://www.semwebtech.org/mondial/10/countries/GB/\" target=\"_other\">http://www.semwebtech.org/mondial/10/countries/GB/</a></td>\n<td class=val>United Kingdom</td></tr></table><div class=\"tinfo\">Total: 237, Shown: 200</div></div>"
     },
     "metadata": {},
     "output_type": "display_data"
    }
   ],
   "source": [
    "%show 200\n",
    " %format ANY\n",
    " \n",
    "PREFIX prefix: <http://prefix.cc/>\n",
    "PREFIX co: <http://purl.org/ontology/co/core#>\n",
    "PREFIX coun: <http://www.daml.org/2001/09/countries/iso-3166-ont#>\n",
    "prefix rdfs: <http://www.w3.org/2000/01/rdf-schema#>\n",
    "prefix owl: <http://www.w3.org/2002/07/owl#>\n",
    "prefix : <http://www.semwebtech.org/mondial/10/meta#>\n",
    "prefix mondial: <http://www.semwebtech.org/mondial/10/>\n",
    "prefix rivers: <http://www.semwebtech.org/mondial/10/rivers/> \n",
    "base <http://www.semwebtech.org/mondial/10/>\n",
    "\n",
    "SELECT distinct ?country ?countryName\n",
    "WHERE {\n",
    "  ?country a :Country .\n",
    "  ?country :name ?countryName .\n",
    "  ?country :isMember ?org .\n",
    "  MINUS {\n",
    "    ?cl a :Country .\n",
    "    ?cl :isMember ?fo .\n",
    "    ?cl :name \"Liechtenstein\" .\n",
    "    MINUS { ?country :isMember ?fo }\n",
    "  }\n",
    "}\n"
   ]
  }
 ],
 "metadata": {
  "kernelspec": {
   "display_name": "SPARQL",
   "language": "sparql",
   "name": "sparql"
  },
  "language_info": {
   "codemirror_mode": {
    "name": "sparql"
   },
   "mimetype": "application/sparql-query",
   "name": "sparql",
   "pygments_lexer": "sparql-nb"
  }
 },
 "nbformat": 4,
 "nbformat_minor": 4
}
